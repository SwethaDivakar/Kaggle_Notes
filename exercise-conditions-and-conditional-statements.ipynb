{
 "cells": [
  {
   "cell_type": "markdown",
   "id": "d466c9ad",
   "metadata": {
    "papermill": {
     "duration": 0.006315,
     "end_time": "2025-03-27T23:26:24.124968",
     "exception": false,
     "start_time": "2025-03-27T23:26:24.118653",
     "status": "completed"
    },
    "tags": []
   },
   "source": [
    "**This notebook is an exercise in the [Intro to Programming](https://www.kaggle.com/learn/intro-to-programming) course.  You can reference the tutorial at [this link](https://www.kaggle.com/alexisbcook/conditions-and-conditional-statements).**\n",
    "\n",
    "---\n"
   ]
  },
  {
   "cell_type": "markdown",
   "id": "424cbff3",
   "metadata": {
    "papermill": {
     "duration": 0.005607,
     "end_time": "2025-03-27T23:26:24.137010",
     "exception": false,
     "start_time": "2025-03-27T23:26:24.131403",
     "status": "completed"
    },
    "tags": []
   },
   "source": [
    "In the tutorial, you learned about conditions and conditional statements. In this exercise, you will use what you learned to answer several questions.\n",
    "\n",
    "# Set up the notebook\n",
    "\n",
    "Run the next code cell without changes to set up the notebook."
   ]
  },
  {
   "cell_type": "code",
   "execution_count": 1,
   "id": "f51303b9",
   "metadata": {
    "execution": {
     "iopub.execute_input": "2025-03-27T23:26:24.150272Z",
     "iopub.status.busy": "2025-03-27T23:26:24.149715Z",
     "iopub.status.idle": "2025-03-27T23:26:25.231932Z",
     "shell.execute_reply": "2025-03-27T23:26:25.230600Z"
    },
    "papermill": {
     "duration": 1.09172,
     "end_time": "2025-03-27T23:26:25.234471",
     "exception": false,
     "start_time": "2025-03-27T23:26:24.142751",
     "status": "completed"
    },
    "tags": []
   },
   "outputs": [
    {
     "name": "stdout",
     "output_type": "stream",
     "text": [
      "Setup complete.\n"
     ]
    }
   ],
   "source": [
    "from learntools.core import binder\n",
    "binder.bind(globals())\n",
    "from learntools.intro_to_programming.ex4 import *\n",
    "print('Setup complete.')"
   ]
  },
  {
   "cell_type": "markdown",
   "id": "c16fdaee",
   "metadata": {
    "papermill": {
     "duration": 0.005859,
     "end_time": "2025-03-27T23:26:25.247588",
     "exception": false,
     "start_time": "2025-03-27T23:26:25.241729",
     "status": "completed"
    },
    "tags": []
   },
   "source": [
    "# Question 1\n",
    "\n",
    "You work at a college admissions office.  When inspecting a dataset of college applicants, you notice that some students have represented their grades with letters (`\"A\"`, `\"B\"`, `\"C\"`, `\"D\"`, `\"F\"`), whereas others have represented their grades with a number between 0 and 100.\n",
    "\n",
    "You realize that for consistency, all of the grades should be formatted in the same way, and you decide to format them all as letters.  For the conversion, you decide to assign:\n",
    "- `\"A\"` - any grade 90-100, inclusive\n",
    "- `\"B\"` - any grade 80-89, inclusive\n",
    "- `\"C\"` - any grade 70-79, inclusive\n",
    "- `\"D\"` - any grade 60-69, inclusive\n",
    "- `\"F\"` - any grade <60\n",
    "\n",
    "Write a function `get_grade()` that takes as input:\n",
    "- `score` - an integer 0-100 corresponding to a numerical grade\n",
    "\n",
    "It should return a Python string with the letter grade that it corresponds to.  For instance,\n",
    "- A score of 85 corresponds to a B grade.  In other words, `get_grade(85)` should return `\"B\"`.\n",
    "- A score of 49 corresponds to an F grade.  In other words, `get_grade(49)` should return `\"F\"`.\n",
    "\n",
    "Make sure that when supplying the grade that is returned by the function, it is enclosed in quotes.  (For instance, if you want to return `\"A\"`, you should write `return \"A\"` and not `return A`.)"
   ]
  },
  {
   "cell_type": "code",
   "execution_count": 2,
   "id": "388c82e0",
   "metadata": {
    "execution": {
     "iopub.execute_input": "2025-03-27T23:26:25.260657Z",
     "iopub.status.busy": "2025-03-27T23:26:25.260169Z",
     "iopub.status.idle": "2025-03-27T23:26:25.270767Z",
     "shell.execute_reply": "2025-03-27T23:26:25.269326Z"
    },
    "papermill": {
     "duration": 0.019177,
     "end_time": "2025-03-27T23:26:25.272576",
     "exception": false,
     "start_time": "2025-03-27T23:26:25.253399",
     "status": "completed"
    },
    "tags": []
   },
   "outputs": [
    {
     "data": {
      "application/javascript": [
       "parent.postMessage({\"jupyterEvent\": \"custom.exercise_interaction\", \"data\": {\"outcomeType\": 1, \"valueTowardsCompletion\": 0.2, \"interactionType\": 1, \"questionType\": 2, \"questionId\": \"1_GetGrade\", \"learnToolsVersion\": \"0.3.4\", \"failureMessage\": \"\", \"exceptionClass\": \"\", \"trace\": \"\"}}, \"*\")"
      ],
      "text/plain": [
       "<IPython.core.display.Javascript object>"
      ]
     },
     "metadata": {},
     "output_type": "display_data"
    },
    {
     "data": {
      "text/markdown": [
       "<span style=\"color:#33cc33\">Correct</span>"
      ],
      "text/plain": [
       "Correct"
      ]
     },
     "metadata": {},
     "output_type": "display_data"
    }
   ],
   "source": [
    "# TODO: Edit the function to return the correct grade for different scores\n",
    "def get_grade(score):\n",
    "    if (score >= 90):\n",
    "        grade = \"A\"\n",
    "    elif (score >= 80):\n",
    "        grade = \"B\"\n",
    "    elif (score >= 70):\n",
    "        grade = \"C\"\n",
    "    elif (score >= 60):\n",
    "        grade = \"D\"\n",
    "    else:\n",
    "        grade = \"F\"\n",
    "    return grade\n",
    "    \n",
    "# Check your answer\n",
    "q1.check()"
   ]
  },
  {
   "cell_type": "code",
   "execution_count": 3,
   "id": "59349eec",
   "metadata": {
    "execution": {
     "iopub.execute_input": "2025-03-27T23:26:25.286498Z",
     "iopub.status.busy": "2025-03-27T23:26:25.286141Z",
     "iopub.status.idle": "2025-03-27T23:26:25.290416Z",
     "shell.execute_reply": "2025-03-27T23:26:25.289256Z"
    },
    "papermill": {
     "duration": 0.013163,
     "end_time": "2025-03-27T23:26:25.292269",
     "exception": false,
     "start_time": "2025-03-27T23:26:25.279106",
     "status": "completed"
    },
    "tags": []
   },
   "outputs": [],
   "source": [
    "# Uncomment to see a hint\n",
    "#q1.hint()\n",
    "\n",
    "# Uncomment to see the solution\n",
    "#q1.solution()"
   ]
  },
  {
   "cell_type": "markdown",
   "id": "8fdf0422",
   "metadata": {
    "papermill": {
     "duration": 0.005777,
     "end_time": "2025-03-27T23:26:25.304098",
     "exception": false,
     "start_time": "2025-03-27T23:26:25.298321",
     "status": "completed"
    },
    "tags": []
   },
   "source": [
    "# Question 2\n",
    "\n",
    "In the exercise for the previous lesson, you wrote a function `cost_of_project()` that estimated the price of rings for an online shop that sells rings with custom engravings.  This function did not use conditional statements.  In this exercise, you will rewrite the function to use conditional statements.  Recall that the online shop has the following price structure:\n",
    "- Gold plated rings have a base cost of \\\\$50, and you charge \\\\$7 per engraved unit.  \n",
    "- Solid gold rings have a base cost of \\\\$100, and you charge \\\\$10 per engraved unit.\n",
    "- Spaces and punctuation are counted as engraved units.\n",
    "\n",
    "Your function `cost_of_project()` takes two arguments:\n",
    "- `engraving` - a Python string with the text of the engraving\n",
    "- `solid_gold` - a Boolean that indicates whether the ring is solid gold\n",
    "\n",
    "It should return the cost of the project.  \n",
    "\n",
    "The function has been partially completed for you, and you need to fill in the blanks to complete the function."
   ]
  },
  {
   "cell_type": "code",
   "execution_count": 4,
   "id": "bbad424b",
   "metadata": {
    "execution": {
     "iopub.execute_input": "2025-03-27T23:26:25.317518Z",
     "iopub.status.busy": "2025-03-27T23:26:25.317142Z",
     "iopub.status.idle": "2025-03-27T23:26:25.326507Z",
     "shell.execute_reply": "2025-03-27T23:26:25.325309Z"
    },
    "papermill": {
     "duration": 0.018169,
     "end_time": "2025-03-27T23:26:25.328328",
     "exception": false,
     "start_time": "2025-03-27T23:26:25.310159",
     "status": "completed"
    },
    "tags": []
   },
   "outputs": [
    {
     "data": {
      "application/javascript": [
       "parent.postMessage({\"jupyterEvent\": \"custom.exercise_interaction\", \"data\": {\"outcomeType\": 1, \"valueTowardsCompletion\": 0.2, \"interactionType\": 1, \"questionType\": 2, \"questionId\": \"2_CostProjectPartDeux\", \"learnToolsVersion\": \"0.3.4\", \"failureMessage\": \"\", \"exceptionClass\": \"\", \"trace\": \"\"}}, \"*\")"
      ],
      "text/plain": [
       "<IPython.core.display.Javascript object>"
      ]
     },
     "metadata": {},
     "output_type": "display_data"
    },
    {
     "data": {
      "text/markdown": [
       "<span style=\"color:#33cc33\">Correct</span>"
      ],
      "text/plain": [
       "Correct"
      ]
     },
     "metadata": {},
     "output_type": "display_data"
    }
   ],
   "source": [
    "def cost_of_project(engraving, solid_gold):\n",
    "    if solid_gold == True:\n",
    "        cost = 100 + len(engraving)*10\n",
    "    else:\n",
    "        cost = 50 + len(engraving)*7\n",
    "    return cost\n",
    "\n",
    "# Check your answer\n",
    "q2.check()"
   ]
  },
  {
   "cell_type": "code",
   "execution_count": 5,
   "id": "5b85a8eb",
   "metadata": {
    "execution": {
     "iopub.execute_input": "2025-03-27T23:26:25.342961Z",
     "iopub.status.busy": "2025-03-27T23:26:25.342526Z",
     "iopub.status.idle": "2025-03-27T23:26:25.347247Z",
     "shell.execute_reply": "2025-03-27T23:26:25.345987Z"
    },
    "papermill": {
     "duration": 0.013856,
     "end_time": "2025-03-27T23:26:25.349304",
     "exception": false,
     "start_time": "2025-03-27T23:26:25.335448",
     "status": "completed"
    },
    "tags": []
   },
   "outputs": [],
   "source": [
    "# Uncomment to see a hint\n",
    "#q2.hint()\n",
    "\n",
    "# Uncomment to see the solution\n",
    "#q2.solution()"
   ]
  },
  {
   "cell_type": "markdown",
   "id": "d9169f23",
   "metadata": {
    "papermill": {
     "duration": 0.005896,
     "end_time": "2025-03-27T23:26:25.361664",
     "exception": false,
     "start_time": "2025-03-27T23:26:25.355768",
     "status": "completed"
    },
    "tags": []
   },
   "source": [
    "# Question 3\n",
    "\n",
    "You are a programmer at a water agency.  Recently, you have been tasked to write a function `get_water_bill()` that takes as input:\n",
    "- `num_gallons` = the number of gallons of water that a customer used that month.  (This will always be an integer with no decimal part.)\n",
    "\n",
    "It should output the water bill.  \n",
    "\n",
    "The water agency uses this pricing structure:\n",
    "<table style=\"width: 100%;\">\n",
    "<tbody>\n",
    "<tr><th><b>Tier</b></th><th><b>Amount in gallons</b></th><th><b>Price per 1000 gallons</b></th></tr>\n",
    "<tr>\n",
    "<td>Tier 1</td>\n",
    "<td>0 - 8,000</td>\n",
    "<td>\\$5</td>\n",
    "</tr>\n",
    "<tr>\n",
    "<td>Tier 2</td>\n",
    "<td>8,001 - 22,000</td>\n",
    "<td>\\$6</td>\n",
    "</tr>\n",
    "<tr>\n",
    "<td>Tier 3</td>\n",
    "<td>22,001 - 30,000</td>\n",
    "<td>\\$7</td>\n",
    "</tr>\n",
    "<tr>\n",
    "<td>Tier 4</td>\n",
    "<td>30,001+</td>\n",
    "<td>\\$10</td>\n",
    "</tr>\n",
    "</tbody>\n",
    "</table>\n",
    "\n",
    "For example: \n",
    "- Someone who uses 10,000 gallons of water in a month is placed in Tier 2, and needs to pay a water bill of \\\\$6 * 10 = \\\\$60.  In other words, `get_water_bill(10000)` should return `60.0`.\n",
    "- Someone who uses 25,000 gallons of water in a month is placed in Tier 3, and needs to pay a water bill of \\\\$7 * 25 = \\\\$175.  In other words, `get_water_bill(25000)` should return `175.0`.\n",
    "\n",
    "**Do not round your answer.**  So, your answer might return fractions of a penny."
   ]
  },
  {
   "cell_type": "code",
   "execution_count": 6,
   "id": "38f631fd",
   "metadata": {
    "execution": {
     "iopub.execute_input": "2025-03-27T23:26:25.375721Z",
     "iopub.status.busy": "2025-03-27T23:26:25.375195Z",
     "iopub.status.idle": "2025-03-27T23:26:25.384861Z",
     "shell.execute_reply": "2025-03-27T23:26:25.383446Z"
    },
    "papermill": {
     "duration": 0.01862,
     "end_time": "2025-03-27T23:26:25.386643",
     "exception": false,
     "start_time": "2025-03-27T23:26:25.368023",
     "status": "completed"
    },
    "tags": []
   },
   "outputs": [
    {
     "data": {
      "application/javascript": [
       "parent.postMessage({\"jupyterEvent\": \"custom.exercise_interaction\", \"data\": {\"outcomeType\": 1, \"valueTowardsCompletion\": 0.2, \"interactionType\": 1, \"questionType\": 2, \"questionId\": \"3_GetWaterBill\", \"learnToolsVersion\": \"0.3.4\", \"failureMessage\": \"\", \"exceptionClass\": \"\", \"trace\": \"\"}}, \"*\")"
      ],
      "text/plain": [
       "<IPython.core.display.Javascript object>"
      ]
     },
     "metadata": {},
     "output_type": "display_data"
    },
    {
     "data": {
      "text/markdown": [
       "<span style=\"color:#33cc33\">Correct</span>"
      ],
      "text/plain": [
       "Correct"
      ]
     },
     "metadata": {},
     "output_type": "display_data"
    }
   ],
   "source": [
    "# TODO: Edit the function to return the correct bill for different\n",
    "# values of num_gallons\n",
    "def get_water_bill(num_gallons):\n",
    "    gal_in_k = num_gallons/1000\n",
    "    if (gal_in_k <= 8):\n",
    "        bill = gal_in_k * 5\n",
    "    elif (gal_in_k <= 22):\n",
    "        bill = gal_in_k * 6\n",
    "    elif (gal_in_k <= 30):\n",
    "        bill = gal_in_k * 7\n",
    "    else:\n",
    "        bill = gal_in_k * 10\n",
    "    return bill\n",
    "\n",
    "# Check your answer\n",
    "q3.check()"
   ]
  },
  {
   "cell_type": "code",
   "execution_count": 7,
   "id": "95725803",
   "metadata": {
    "execution": {
     "iopub.execute_input": "2025-03-27T23:26:25.401280Z",
     "iopub.status.busy": "2025-03-27T23:26:25.400926Z",
     "iopub.status.idle": "2025-03-27T23:26:25.405138Z",
     "shell.execute_reply": "2025-03-27T23:26:25.403976Z"
    },
    "papermill": {
     "duration": 0.014139,
     "end_time": "2025-03-27T23:26:25.407459",
     "exception": false,
     "start_time": "2025-03-27T23:26:25.393320",
     "status": "completed"
    },
    "tags": []
   },
   "outputs": [],
   "source": [
    "# Uncomment to see a hint\n",
    "#q3.hint()\n",
    "\n",
    "# Uncomment to see the solution\n",
    "#q3.solution()"
   ]
  },
  {
   "cell_type": "markdown",
   "id": "d502143e",
   "metadata": {
    "papermill": {
     "duration": 0.005978,
     "end_time": "2025-03-27T23:26:25.420215",
     "exception": false,
     "start_time": "2025-03-27T23:26:25.414237",
     "status": "completed"
    },
    "tags": []
   },
   "source": [
    "# Question 4\n",
    "\n",
    "You work for a company that provides data services.  For \\\\$100/month, your company provides 15 gigabytes (GB) of data.  Then, any additional data is billed at \\\\$0.10/MB (or \\\\$100/GB, since 1,000 MB are in 1 GB).\n",
    "\n",
    "Use the next code cell to write a function `get_phone_bill()` that takes as input:\n",
    "- `gb` = number of GB that the customer used in a month\n",
    "\n",
    "It should return the customer's total phone bill.\n",
    "\n",
    "For instance:\n",
    "- A customer who uses 10 GB of data in one month is billed only \\\\$100, since the usage stayed under 15 GB.  In other words, `get_phone_bill(10)` should return `100`.\n",
    "- A customer who uses 15.1 GB (or 15 GB + 100 MB) of data in one month has gone over by .1 GB, so they must pay \\\\$100 (cost of plan), plus \\\\$0.10 * 100 = \\\\$10, for a total bill of \\\\$110.  In other words, `get_phone_bill(15.1)` should return `110`.\n",
    "\n",
    "Do not round your answer."
   ]
  },
  {
   "cell_type": "code",
   "execution_count": 8,
   "id": "0f202786",
   "metadata": {
    "execution": {
     "iopub.execute_input": "2025-03-27T23:26:25.434363Z",
     "iopub.status.busy": "2025-03-27T23:26:25.434010Z",
     "iopub.status.idle": "2025-03-27T23:26:25.442869Z",
     "shell.execute_reply": "2025-03-27T23:26:25.441731Z"
    },
    "papermill": {
     "duration": 0.018333,
     "end_time": "2025-03-27T23:26:25.444802",
     "exception": false,
     "start_time": "2025-03-27T23:26:25.426469",
     "status": "completed"
    },
    "tags": []
   },
   "outputs": [
    {
     "data": {
      "application/javascript": [
       "parent.postMessage({\"jupyterEvent\": \"custom.exercise_interaction\", \"data\": {\"outcomeType\": 1, \"valueTowardsCompletion\": 0.2, \"interactionType\": 1, \"questionType\": 2, \"questionId\": \"4_GetPhoneBill\", \"learnToolsVersion\": \"0.3.4\", \"failureMessage\": \"\", \"exceptionClass\": \"\", \"trace\": \"\"}}, \"*\")"
      ],
      "text/plain": [
       "<IPython.core.display.Javascript object>"
      ]
     },
     "metadata": {},
     "output_type": "display_data"
    },
    {
     "data": {
      "text/markdown": [
       "<span style=\"color:#33cc33\">Correct</span>"
      ],
      "text/plain": [
       "Correct"
      ]
     },
     "metadata": {},
     "output_type": "display_data"
    }
   ],
   "source": [
    "# TODO: Edit the function to return the correct bill for different\n",
    "# values of GB\n",
    "def get_phone_bill(gb):\n",
    "    if(gb <= 15.0):\n",
    "        bill = 100\n",
    "    else:\n",
    "        extra = gb - 15.0\n",
    "        bill = 100 + (extra*100)\n",
    "    return bill\n",
    "\n",
    "# Check your answer\n",
    "q4.check()"
   ]
  },
  {
   "cell_type": "code",
   "execution_count": 9,
   "id": "05d1c54c",
   "metadata": {
    "execution": {
     "iopub.execute_input": "2025-03-27T23:26:25.459748Z",
     "iopub.status.busy": "2025-03-27T23:26:25.459405Z",
     "iopub.status.idle": "2025-03-27T23:26:25.470498Z",
     "shell.execute_reply": "2025-03-27T23:26:25.469407Z"
    },
    "papermill": {
     "duration": 0.02084,
     "end_time": "2025-03-27T23:26:25.472429",
     "exception": false,
     "start_time": "2025-03-27T23:26:25.451589",
     "status": "completed"
    },
    "tags": []
   },
   "outputs": [
    {
     "data": {
      "application/javascript": [
       "parent.postMessage({\"jupyterEvent\": \"custom.exercise_interaction\", \"data\": {\"interactionType\": 2, \"questionType\": 2, \"questionId\": \"4_GetPhoneBill\", \"learnToolsVersion\": \"0.3.4\", \"valueTowardsCompletion\": 0.0, \"failureMessage\": \"\", \"exceptionClass\": \"\", \"trace\": \"\", \"outcomeType\": 4}}, \"*\")"
      ],
      "text/plain": [
       "<IPython.core.display.Javascript object>"
      ]
     },
     "metadata": {},
     "output_type": "display_data"
    },
    {
     "data": {
      "text/markdown": [
       "<span style=\"color:#3366cc\">Hint:</span> \n",
       "Your solution should look something like:\n",
       "```python\n",
       "def get_phone_bill(gb):\n",
       "    if gb <= 15:\n",
       "        bill = ____\n",
       "    else:\n",
       "        bill = 100 + ____\n",
       "    return bill\n",
       "```\n"
      ],
      "text/plain": [
       "Hint: \n",
       "Your solution should look something like:\n",
       "```python\n",
       "def get_phone_bill(gb):\n",
       "    if gb <= 15:\n",
       "        bill = ____\n",
       "    else:\n",
       "        bill = 100 + ____\n",
       "    return bill\n",
       "```"
      ]
     },
     "metadata": {},
     "output_type": "display_data"
    },
    {
     "data": {
      "application/javascript": [
       "parent.postMessage({\"jupyterEvent\": \"custom.exercise_interaction\", \"data\": {\"interactionType\": 3, \"questionType\": 2, \"questionId\": \"4_GetPhoneBill\", \"learnToolsVersion\": \"0.3.4\", \"valueTowardsCompletion\": 0.0, \"failureMessage\": \"\", \"exceptionClass\": \"\", \"trace\": \"\", \"outcomeType\": 4}}, \"*\")"
      ],
      "text/plain": [
       "<IPython.core.display.Javascript object>"
      ]
     },
     "metadata": {},
     "output_type": "display_data"
    },
    {
     "data": {
      "text/markdown": [
       "<span style=\"color:#33cc99\">Solution:</span> \n",
       "```python\n",
       "def get_phone_bill(gb):\n",
       "    if gb <= 15:\n",
       "        bill = 100\n",
       "    else:\n",
       "        bill = 100 + (gb - 15) * 100\n",
       "    return bill\n",
       "\n",
       "```"
      ],
      "text/plain": [
       "Solution: \n",
       "```python\n",
       "def get_phone_bill(gb):\n",
       "    if gb <= 15:\n",
       "        bill = 100\n",
       "    else:\n",
       "        bill = 100 + (gb - 15) * 100\n",
       "    return bill\n",
       "\n",
       "```"
      ]
     },
     "metadata": {},
     "output_type": "display_data"
    }
   ],
   "source": [
    "# Uncomment to see a hint\n",
    "q4.hint()\n",
    "\n",
    "# Uncomment to see the solution\n",
    "q4.solution()"
   ]
  },
  {
   "cell_type": "markdown",
   "id": "d677772c",
   "metadata": {
    "papermill": {
     "duration": 0.006766,
     "end_time": "2025-03-27T23:26:25.486530",
     "exception": false,
     "start_time": "2025-03-27T23:26:25.479764",
     "status": "completed"
    },
    "tags": []
   },
   "source": [
    "# 🌶️ Question 5\n",
    "\n",
    "In Mexico, foods and beverages that are high in saturated fat, trans fat, sugar, sodium, and/or calories appear with warning labels that are designed to help consumers make healthy food choices.\n",
    "\n",
    "For instance, the [box of cookies](https://world.openfoodfacts.org/product/7501000673209/florentinas-gamesa) in the image below appears with two labels (in the upper right corner):\n",
    "- EXCESO CALORÍAS (in English, EXCESS CALORIES)\n",
    "- EXCESO AZÚCARES (in English, EXCESS SUGAR)\n",
    "\n",
    "<center><img src=\"https://storage.googleapis.com/kaggle-media/learn/images/VXYKHnM.png\" alt=\"drawing\" width=\"500\"/></center>\n",
    "\n",
    "In this question, you'll work with a function `get_labels()` that takes the nutritional details about a food item and prints the needed warning labels.  This function takes several inputs:\n",
    "- `food_type` = one of `\"solid\"` or `\"liquid\"`\n",
    "- `serving_size` = size of one serving (if solid, in grams; if liquid, in milliliters)\n",
    "- `calories_per_serving` = calories in one serving\n",
    "- `saturated_fat_g` = grams of saturated fat in one serving\n",
    "- `trans_fat_g` = grams of trans fat in one serving\n",
    "- `sodium_mg` = mg of sodium in one serving\n",
    "- `sugars_g` = grams of sugar in one serving\n",
    "\n",
    "Note that some of the code here should feel unfamiliar to you, since we have not shared the details of how some of the functions like `excess_sugar()` or `excess_saturated_fat()` work.  But at a high level, these are functions that return a value of `True` if the food is deemed to have an excess of sugar or saturated fat, respectively.  These functions are used within the `get_labels()` function, and whenever there is an excess (of sugar or saturated fat, but also of trans fat, sodium, or calories), it prints the corresponding label."
   ]
  },
  {
   "cell_type": "code",
   "execution_count": 10,
   "id": "319d1fba",
   "metadata": {
    "execution": {
     "iopub.execute_input": "2025-03-27T23:26:25.502068Z",
     "iopub.status.busy": "2025-03-27T23:26:25.501659Z",
     "iopub.status.idle": "2025-03-27T23:26:25.509795Z",
     "shell.execute_reply": "2025-03-27T23:26:25.508901Z"
    },
    "papermill": {
     "duration": 0.018364,
     "end_time": "2025-03-27T23:26:25.511918",
     "exception": false,
     "start_time": "2025-03-27T23:26:25.493554",
     "status": "completed"
    },
    "tags": []
   },
   "outputs": [],
   "source": [
    "# import functions needed to make get_labels work\n",
    "from learntools.intro_to_programming.ex4q5 import excess_sugar, excess_saturated_fat, excess_trans_fat, excess_sodium, excess_calories\n",
    "\n",
    "def get_labels(food_type, serving_size, calories_per_serving, saturated_fat_g, trans_fat_g, sodium_mg, sugars_g):\n",
    "    # Print messages based on findings\n",
    "    if excess_sugar(sugars_g, calories_per_serving) == True:\n",
    "        print(\"EXCESO AZÚCARES / EXCESS SUGAR\")\n",
    "    if excess_saturated_fat(saturated_fat_g, calories_per_serving) == True:\n",
    "        print(\"EXCESO GRASAS SATURADAS / EXCESS SATURATED FAT\")\n",
    "    if excess_trans_fat(trans_fat_g, calories_per_serving) == True:\n",
    "        print(\"EXCESO GRASAS TRANS / EXCESS TRANS FAT\")\n",
    "    if excess_sodium(calories_per_serving, sodium_mg) == True:\n",
    "        print(\"EXCESO SODIO / EXCESS SODIUM\")\n",
    "    if excess_calories(food_type, calories_per_serving, serving_size) == True:\n",
    "        print(\"EXCESO CALORÍAS / EXCESS CALORIES\")"
   ]
  },
  {
   "cell_type": "markdown",
   "id": "50125f1a",
   "metadata": {
    "papermill": {
     "duration": 0.006606,
     "end_time": "2025-03-27T23:26:25.525836",
     "exception": false,
     "start_time": "2025-03-27T23:26:25.519230",
     "status": "completed"
    },
    "tags": []
   },
   "source": [
    "The next code cell demonstrates how to use `get_labels()` to get the warning labels that the food item should contain.  We begin with [bologna](https://world.openfoodfacts.org/product/4099100179378/bologna).  Here is [an image](https://storage.googleapis.com/kaggle-media/learn/images/Cfcx72e.png) with all of the nutritional information.  Note that for this food,\n",
    "- `food_type = \"solid\"` (because bologna is a solid and not a liquid)\n",
    "- `serving_size = 32` (the serving size is 32 grams)\n",
    "- `calories_per_serving = 110` (there are 110 calories per serving)\n",
    "- `saturated_fat_g = 2.5` (there are 2.5 grams of saturated fat per serving)\n",
    "- `trans_fat_g = 0` (there are 0 grams of trans fat per serving)\n",
    "- `sodium_mg = 400` (there are 400 mg of sodium per serving)\n",
    "- `sugars_g = 1` (the nutrition facts say <1g, but we will round it up to 1 gram per serving to be safe)\n",
    "\n",
    "By supplying all of these values to the function, we can print the warning labels."
   ]
  },
  {
   "cell_type": "code",
   "execution_count": 11,
   "id": "eac7bbb9",
   "metadata": {
    "execution": {
     "iopub.execute_input": "2025-03-27T23:26:25.541829Z",
     "iopub.status.busy": "2025-03-27T23:26:25.541293Z",
     "iopub.status.idle": "2025-03-27T23:26:25.547258Z",
     "shell.execute_reply": "2025-03-27T23:26:25.546149Z"
    },
    "papermill": {
     "duration": 0.016331,
     "end_time": "2025-03-27T23:26:25.549020",
     "exception": false,
     "start_time": "2025-03-27T23:26:25.532689",
     "status": "completed"
    },
    "tags": []
   },
   "outputs": [
    {
     "name": "stdout",
     "output_type": "stream",
     "text": [
      "EXCESO GRASAS SATURADAS / EXCESS SATURATED FAT\n",
      "EXCESO SODIO / EXCESS SODIUM\n",
      "EXCESO CALORÍAS / EXCESS CALORIES\n"
     ]
    }
   ],
   "source": [
    "# bologna https://world.openfoodfacts.org/product/4099100179378/bologna\n",
    "get_labels(\"solid\", 32, 110, 2.5, 0, 400, 1)"
   ]
  },
  {
   "cell_type": "markdown",
   "id": "374902af",
   "metadata": {
    "papermill": {
     "duration": 0.006822,
     "end_time": "2025-03-27T23:26:25.563311",
     "exception": false,
     "start_time": "2025-03-27T23:26:25.556489",
     "status": "completed"
    },
    "tags": []
   },
   "source": [
    "This bologna has three labels, printed in the output above.\n",
    "\n",
    "For the rest of this question, you will use the same `get_labels()` function to determine the labels for more foods.  This question is designed to help you get practice with feeling comfortable with code that other people have written, and where you don't have time to review every single line of code before interacting with it.  For instance, when you take the [Intro to Machine Learning course](http://www.kaggle.com/learn/intro-to-machine-learning), you'll work with a Python package called \"scikit-learn\", which is a large collection of code that you'll learn how to run without reviewing all of the code in detail (as it would take too long, and you can trust that it was implemented correctly).\n",
    "\n",
    "In general, as you continue coding in Python, you will often be running code that other people have written.  This is common practice for advanced programmers.\n",
    "\n",
    "In the next code cell, fill in the values for [this cereal](https://world.openfoodfacts.org/product/7501008023624/zucaritas-kellogg-s).  Here is [an image](https://storage.googleapis.com/kaggle-media/learn/images/MUxzHVU.png) with all of the nutritional information.\n",
    "\n",
    "**Note**: running the line of code below as-is will return an error.  You have to fill in the nutritional values first."
   ]
  },
  {
   "cell_type": "code",
   "execution_count": 12,
   "id": "a8998206",
   "metadata": {
    "execution": {
     "iopub.execute_input": "2025-03-27T23:26:25.579044Z",
     "iopub.status.busy": "2025-03-27T23:26:25.578605Z",
     "iopub.status.idle": "2025-03-27T23:26:25.584869Z",
     "shell.execute_reply": "2025-03-27T23:26:25.583565Z"
    },
    "papermill": {
     "duration": 0.016332,
     "end_time": "2025-03-27T23:26:25.586601",
     "exception": false,
     "start_time": "2025-03-27T23:26:25.570269",
     "status": "completed"
    },
    "tags": []
   },
   "outputs": [
    {
     "name": "stdout",
     "output_type": "stream",
     "text": [
      "EXCESO AZÚCARES / EXCESS SUGAR\n",
      "EXCESO SODIO / EXCESS SODIUM\n",
      "EXCESO CALORÍAS / EXCESS CALORIES\n"
     ]
    }
   ],
   "source": [
    "# zucaritas cereal https://world.openfoodfacts.org/product/7501008023624/zucaritas-kellogg-s\n",
    "# TODO: Uncomment the line below, fill in the values, and run the function\n",
    "get_labels(\"solid\", 40, 150, 0, 0, 150, 16)"
   ]
  },
  {
   "cell_type": "markdown",
   "id": "beb59acf",
   "metadata": {
    "papermill": {
     "duration": 0.006816,
     "end_time": "2025-03-27T23:26:25.601200",
     "exception": false,
     "start_time": "2025-03-27T23:26:25.594384",
     "status": "completed"
    },
    "tags": []
   },
   "source": [
    "Next, try [these mozzarella sticks](https://world-es.openfoodfacts.org/producto/0062325540104/mozzarella-cheese-sticks).  Here is [an image](https://storage.googleapis.com/kaggle-media/learn/images/rcdB7VH.png) with all of the nutritional information."
   ]
  },
  {
   "cell_type": "code",
   "execution_count": 13,
   "id": "8b81c645",
   "metadata": {
    "execution": {
     "iopub.execute_input": "2025-03-27T23:26:25.617505Z",
     "iopub.status.busy": "2025-03-27T23:26:25.617131Z",
     "iopub.status.idle": "2025-03-27T23:26:25.622089Z",
     "shell.execute_reply": "2025-03-27T23:26:25.620833Z"
    },
    "papermill": {
     "duration": 0.014983,
     "end_time": "2025-03-27T23:26:25.623966",
     "exception": false,
     "start_time": "2025-03-27T23:26:25.608983",
     "status": "completed"
    },
    "tags": []
   },
   "outputs": [
    {
     "name": "stdout",
     "output_type": "stream",
     "text": [
      "EXCESO GRASAS SATURADAS / EXCESS SATURATED FAT\n",
      "EXCESO GRASAS TRANS / EXCESS TRANS FAT\n",
      "EXCESO SODIO / EXCESS SODIUM\n",
      "EXCESO CALORÍAS / EXCESS CALORIES\n"
     ]
    }
   ],
   "source": [
    "# mozzarella sticks https://world-es.openfoodfacts.org/producto/0062325540104/mozzarella-cheese-sticks\n",
    "# TODO: Uncomment the line below, fill in the values, and run the function\n",
    "get_labels(\"solid\", 21, 68, 3, 0.2, 208, 0)"
   ]
  },
  {
   "cell_type": "markdown",
   "id": "8ea6009e",
   "metadata": {
    "papermill": {
     "duration": 0.00688,
     "end_time": "2025-03-27T23:26:25.638183",
     "exception": false,
     "start_time": "2025-03-27T23:26:25.631303",
     "status": "completed"
    },
    "tags": []
   },
   "source": [
    "Feel free to skip to the end of the notebook now and run `q5.check()` to complete the exercise.  If you want to try more foods, \n",
    "- try [these cookies](https://world.openfoodfacts.org/product/0069700118545/biscuits-au-sucre-pretraches).  Here is [an image](https://storage.googleapis.com/kaggle-media/learn/images/2Bc271o.png) with all of the nutritional information.\n",
    "- try [this soda](https://world-es.openfoodfacts.org/producto/0078000113464/orange-soda-sunkist).  Here is [an image](https://storage.googleapis.com/kaggle-media/learn/images/RsBYa8E.png) with all of the nutritional information.\n",
    "\n",
    "Use the two code cells below for this."
   ]
  },
  {
   "cell_type": "code",
   "execution_count": 14,
   "id": "0fbbfd7c",
   "metadata": {
    "execution": {
     "iopub.execute_input": "2025-03-27T23:26:25.653533Z",
     "iopub.status.busy": "2025-03-27T23:26:25.653155Z",
     "iopub.status.idle": "2025-03-27T23:26:25.657369Z",
     "shell.execute_reply": "2025-03-27T23:26:25.656214Z"
    },
    "papermill": {
     "duration": 0.01394,
     "end_time": "2025-03-27T23:26:25.659133",
     "exception": false,
     "start_time": "2025-03-27T23:26:25.645193",
     "status": "completed"
    },
    "tags": []
   },
   "outputs": [],
   "source": [
    "# pillsbury cookies https://world.openfoodfacts.org/product/0069700118545/biscuits-au-sucre-pretraches\n",
    "# TODO: Uncomment the line below, fill in the values, and run the function\n",
    "#get_labels()"
   ]
  },
  {
   "cell_type": "code",
   "execution_count": 15,
   "id": "4713ece9",
   "metadata": {
    "execution": {
     "iopub.execute_input": "2025-03-27T23:26:25.675063Z",
     "iopub.status.busy": "2025-03-27T23:26:25.674631Z",
     "iopub.status.idle": "2025-03-27T23:26:25.679086Z",
     "shell.execute_reply": "2025-03-27T23:26:25.677775Z"
    },
    "papermill": {
     "duration": 0.014497,
     "end_time": "2025-03-27T23:26:25.681039",
     "exception": false,
     "start_time": "2025-03-27T23:26:25.666542",
     "status": "completed"
    },
    "tags": []
   },
   "outputs": [],
   "source": [
    "# sunkist orange soda https://world-es.openfoodfacts.org/producto/0078000113464/orange-soda-sunkist\n",
    "# TODO: Uncomment the line below, fill in the values, and run the function\n",
    "#get_labels()"
   ]
  },
  {
   "cell_type": "markdown",
   "id": "5bf40b12",
   "metadata": {
    "papermill": {
     "duration": 0.007206,
     "end_time": "2025-03-27T23:26:25.695998",
     "exception": false,
     "start_time": "2025-03-27T23:26:25.688792",
     "status": "completed"
    },
    "tags": []
   },
   "source": [
    "Once you have finished investigating the food items in this question, run the final code cell to get credit for completing this problem."
   ]
  },
  {
   "cell_type": "code",
   "execution_count": 16,
   "id": "8f6b6d08",
   "metadata": {
    "execution": {
     "iopub.execute_input": "2025-03-27T23:26:25.711742Z",
     "iopub.status.busy": "2025-03-27T23:26:25.711357Z",
     "iopub.status.idle": "2025-03-27T23:26:25.719139Z",
     "shell.execute_reply": "2025-03-27T23:26:25.718009Z"
    },
    "papermill": {
     "duration": 0.017645,
     "end_time": "2025-03-27T23:26:25.720940",
     "exception": false,
     "start_time": "2025-03-27T23:26:25.703295",
     "status": "completed"
    },
    "tags": []
   },
   "outputs": [
    {
     "data": {
      "application/javascript": [
       "parent.postMessage({\"jupyterEvent\": \"custom.exercise_interaction\", \"data\": {\"outcomeType\": 1, \"valueTowardsCompletion\": 0.2, \"interactionType\": 1, \"questionType\": 2, \"questionId\": \"5_GetLabels\", \"learnToolsVersion\": \"0.3.4\", \"failureMessage\": \"\", \"exceptionClass\": \"\", \"trace\": \"\"}}, \"*\")"
      ],
      "text/plain": [
       "<IPython.core.display.Javascript object>"
      ]
     },
     "metadata": {},
     "output_type": "display_data"
    },
    {
     "data": {
      "text/markdown": [
       "<span style=\"color:#33cc33\">Once you have determined the labels for all of the food items, you're ready to move on to the next lesson!</span>"
      ],
      "text/plain": [
       "Once you have determined the labels for all of the food items, you're ready to move on to the next lesson!"
      ]
     },
     "metadata": {},
     "output_type": "display_data"
    }
   ],
   "source": [
    "# Get credit for completing the problem\n",
    "q5.check()"
   ]
  },
  {
   "cell_type": "markdown",
   "id": "e59f5987",
   "metadata": {
    "papermill": {
     "duration": 0.007057,
     "end_time": "2025-03-27T23:26:25.735682",
     "exception": false,
     "start_time": "2025-03-27T23:26:25.728625",
     "status": "completed"
    },
    "tags": []
   },
   "source": [
    "# Keep going\n",
    "\n",
    "Continue to the next lesson to **[learn about Python lists](https://www.kaggle.com/alexisbcook/intro-to-lists)**."
   ]
  },
  {
   "cell_type": "markdown",
   "id": "8db0b6e2",
   "metadata": {
    "papermill": {
     "duration": 0.008001,
     "end_time": "2025-03-27T23:26:25.751214",
     "exception": false,
     "start_time": "2025-03-27T23:26:25.743213",
     "status": "completed"
    },
    "tags": []
   },
   "source": [
    "---\n",
    "\n",
    "\n",
    "\n",
    "\n",
    "*Have questions or comments? Visit the [course discussion forum](https://www.kaggle.com/learn/intro-to-programming/discussion) to chat with other learners.*"
   ]
  }
 ],
 "metadata": {
  "kaggle": {
   "accelerator": "none",
   "dataSources": [],
   "isGpuEnabled": false,
   "isInternetEnabled": true,
   "language": "python",
   "sourceType": "notebook"
  },
  "kernelspec": {
   "display_name": "Python 3",
   "language": "python",
   "name": "python3"
  },
  "language_info": {
   "codemirror_mode": {
    "name": "ipython",
    "version": 3
   },
   "file_extension": ".py",
   "mimetype": "text/x-python",
   "name": "python",
   "nbconvert_exporter": "python",
   "pygments_lexer": "ipython3",
   "version": "3.10.12"
  },
  "papermill": {
   "default_parameters": {},
   "duration": 5.229774,
   "end_time": "2025-03-27T23:26:26.379933",
   "environment_variables": {},
   "exception": null,
   "input_path": "__notebook__.ipynb",
   "output_path": "__notebook__.ipynb",
   "parameters": {},
   "start_time": "2025-03-27T23:26:21.150159",
   "version": "2.6.0"
  }
 },
 "nbformat": 4,
 "nbformat_minor": 5
}
