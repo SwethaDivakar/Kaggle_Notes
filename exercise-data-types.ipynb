{
 "cells": [
  {
   "cell_type": "markdown",
   "id": "b38598e9",
   "metadata": {
    "papermill": {
     "duration": 0.006607,
     "end_time": "2025-03-27T23:24:10.569723",
     "exception": false,
     "start_time": "2025-03-27T23:24:10.563116",
     "status": "completed"
    },
    "tags": []
   },
   "source": [
    "**This notebook is an exercise in the [Intro to Programming](https://www.kaggle.com/learn/intro-to-programming) course.  You can reference the tutorial at [this link](https://www.kaggle.com/alexisbcook/data-types).**\n",
    "\n",
    "---\n"
   ]
  },
  {
   "cell_type": "markdown",
   "id": "aafdf943",
   "metadata": {
    "papermill": {
     "duration": 0.005284,
     "end_time": "2025-03-27T23:24:10.580861",
     "exception": false,
     "start_time": "2025-03-27T23:24:10.575577",
     "status": "completed"
    },
    "tags": []
   },
   "source": [
    "In the tutorial, you learned about four different data types: floats, integers, strings, and booleans.  In this exercise, you'll experiment with them.\n",
    "\n",
    "# Set up the notebook\n",
    "\n",
    "Run the next code cell without changes to set up the notebook."
   ]
  },
  {
   "cell_type": "code",
   "execution_count": 1,
   "id": "7a735419",
   "metadata": {
    "execution": {
     "iopub.execute_input": "2025-03-27T23:24:10.593146Z",
     "iopub.status.busy": "2025-03-27T23:24:10.592625Z",
     "iopub.status.idle": "2025-03-27T23:24:11.682338Z",
     "shell.execute_reply": "2025-03-27T23:24:11.681040Z"
    },
    "papermill": {
     "duration": 1.098029,
     "end_time": "2025-03-27T23:24:11.684196",
     "exception": false,
     "start_time": "2025-03-27T23:24:10.586167",
     "status": "completed"
    },
    "tags": []
   },
   "outputs": [
    {
     "name": "stdout",
     "output_type": "stream",
     "text": [
      "Setup complete.\n"
     ]
    }
   ],
   "source": [
    "# Set up the exercise\n",
    "from learntools.core import binder\n",
    "binder.bind(globals())\n",
    "from learntools.intro_to_programming.ex3 import *\n",
    "print('Setup complete.')"
   ]
  },
  {
   "cell_type": "markdown",
   "id": "23670e38",
   "metadata": {
    "papermill": {
     "duration": 0.005158,
     "end_time": "2025-03-27T23:24:11.695780",
     "exception": false,
     "start_time": "2025-03-27T23:24:11.690622",
     "status": "completed"
    },
    "tags": []
   },
   "source": [
    "# Question 1\n",
    "\n",
    "You have seen how to convert a float to an integer with the `int` function.  Try this out yourself by running the code cell below."
   ]
  },
  {
   "cell_type": "code",
   "execution_count": 2,
   "id": "91e7fa0f",
   "metadata": {
    "execution": {
     "iopub.execute_input": "2025-03-27T23:24:11.708050Z",
     "iopub.status.busy": "2025-03-27T23:24:11.707532Z",
     "iopub.status.idle": "2025-03-27T23:24:11.714433Z",
     "shell.execute_reply": "2025-03-27T23:24:11.713381Z"
    },
    "papermill": {
     "duration": 0.014904,
     "end_time": "2025-03-27T23:24:11.716034",
     "exception": false,
     "start_time": "2025-03-27T23:24:11.701130",
     "status": "completed"
    },
    "tags": []
   },
   "outputs": [
    {
     "name": "stdout",
     "output_type": "stream",
     "text": [
      "1.0\n",
      "<class 'float'>\n",
      "1\n",
      "<class 'int'>\n"
     ]
    }
   ],
   "source": [
    "# Define a float\n",
    "y = 1.\n",
    "print(y)\n",
    "print(type(y))\n",
    "\n",
    "# Convert float to integer with the int function\n",
    "z = int(y)\n",
    "print(z)\n",
    "print(type(z))"
   ]
  },
  {
   "cell_type": "markdown",
   "id": "f0d8398c",
   "metadata": {
    "papermill": {
     "duration": 0.005408,
     "end_time": "2025-03-27T23:24:11.727601",
     "exception": false,
     "start_time": "2025-03-27T23:24:11.722193",
     "status": "completed"
    },
    "tags": []
   },
   "source": [
    "In this case, the float you are using has no numbers after the decimal.  \n",
    "- But what happens when you try to convert a float with a fractional part to an integer?  \n",
    "- How does the outcome of the `int` function change for positive and negative numbers?\n",
    "\n",
    "Use the next code cell to investigate and answer these questions.  Feel free to add or remove any lines of code -- it is your workspace!"
   ]
  },
  {
   "cell_type": "code",
   "execution_count": 3,
   "id": "e08d884e",
   "metadata": {
    "execution": {
     "iopub.execute_input": "2025-03-27T23:24:11.740442Z",
     "iopub.status.busy": "2025-03-27T23:24:11.740066Z",
     "iopub.status.idle": "2025-03-27T23:24:11.748047Z",
     "shell.execute_reply": "2025-03-27T23:24:11.746567Z"
    },
    "papermill": {
     "duration": 0.016984,
     "end_time": "2025-03-27T23:24:11.750152",
     "exception": false,
     "start_time": "2025-03-27T23:24:11.733168",
     "status": "completed"
    },
    "tags": []
   },
   "outputs": [
    {
     "name": "stdout",
     "output_type": "stream",
     "text": [
      "1\n",
      "1\n",
      "-3\n",
      "-2\n"
     ]
    }
   ],
   "source": [
    "# Uncomment and run this code to get started!\n",
    "print(int(1.2321))\n",
    "print(int(1.747))\n",
    "print(int(-3.94535))\n",
    "print(int(-2.19774))"
   ]
  },
  {
   "cell_type": "markdown",
   "id": "33db5271",
   "metadata": {
    "papermill": {
     "duration": 0.005303,
     "end_time": "2025-03-27T23:24:11.761296",
     "exception": false,
     "start_time": "2025-03-27T23:24:11.755993",
     "status": "completed"
    },
    "tags": []
   },
   "source": [
    "Once you have an answer, run the code cell below to see the solution.  Viewing the solution will give you credit for answering the problem."
   ]
  },
  {
   "cell_type": "code",
   "execution_count": 4,
   "id": "7585197f",
   "metadata": {
    "execution": {
     "iopub.execute_input": "2025-03-27T23:24:11.775071Z",
     "iopub.status.busy": "2025-03-27T23:24:11.774716Z",
     "iopub.status.idle": "2025-03-27T23:24:11.783539Z",
     "shell.execute_reply": "2025-03-27T23:24:11.782289Z"
    },
    "papermill": {
     "duration": 0.017523,
     "end_time": "2025-03-27T23:24:11.785313",
     "exception": false,
     "start_time": "2025-03-27T23:24:11.767790",
     "status": "completed"
    },
    "tags": []
   },
   "outputs": [
    {
     "data": {
      "application/javascript": [
       "parent.postMessage({\"jupyterEvent\": \"custom.exercise_interaction\", \"data\": {\"outcomeType\": 1, \"valueTowardsCompletion\": 0.2, \"interactionType\": 1, \"questionType\": 4, \"questionId\": \"1_FloatToInt\", \"learnToolsVersion\": \"0.3.4\", \"failureMessage\": \"\", \"exceptionClass\": \"\", \"trace\": \"\"}}, \"*\")"
      ],
      "text/plain": [
       "<IPython.core.display.Javascript object>"
      ]
     },
     "metadata": {},
     "output_type": "display_data"
    },
    {
     "data": {
      "text/markdown": [
       "<span style=\"color:#33cc33\">Correct:</span> \n",
       "\n",
       "Negative floats are always rounded UP to the closest integer (for instance, both -1.1 and -1.9 are rounded up to -1). Positive floats are always rounded DOWN to the closest integer (for instance, 2.1 and 2.9 are rounded down to 2)."
      ],
      "text/plain": [
       "Correct: \n",
       "\n",
       "Negative floats are always rounded UP to the closest integer (for instance, both -1.1 and -1.9 are rounded up to -1). Positive floats are always rounded DOWN to the closest integer (for instance, 2.1 and 2.9 are rounded down to 2)."
      ]
     },
     "metadata": {},
     "output_type": "display_data"
    }
   ],
   "source": [
    "# Check your answer (Run this code cell to receive credit!)\n",
    "q1.check()"
   ]
  },
  {
   "cell_type": "markdown",
   "id": "a261af56",
   "metadata": {
    "papermill": {
     "duration": 0.00648,
     "end_time": "2025-03-27T23:24:11.799350",
     "exception": false,
     "start_time": "2025-03-27T23:24:11.792870",
     "status": "completed"
    },
    "tags": []
   },
   "source": [
    "# Question 2\n",
    "\n",
    "In the tutorial, you learned about booleans (which can take a value of `True` or `False`), in addition to integers, floats, and strings.  For this question, your goal is to determine what happens when you multiply a boolean by any of these data types.  Specifically, \n",
    "- What happens when you multiply an integer or float by `True`?  What happens when you multiply them by `False`?  How does the answer change if the numbers are positive or negative?\n",
    "- What happens when you multiply a string by `True`?  By `False`?\n",
    "\n",
    "Use the next code cell for your investigation. "
   ]
  },
  {
   "cell_type": "code",
   "execution_count": 5,
   "id": "c27780fb",
   "metadata": {
    "execution": {
     "iopub.execute_input": "2025-03-27T23:24:11.812571Z",
     "iopub.status.busy": "2025-03-27T23:24:11.812173Z",
     "iopub.status.idle": "2025-03-27T23:24:11.818832Z",
     "shell.execute_reply": "2025-03-27T23:24:11.817789Z"
    },
    "papermill": {
     "duration": 0.015373,
     "end_time": "2025-03-27T23:24:11.820842",
     "exception": false,
     "start_time": "2025-03-27T23:24:11.805469",
     "status": "completed"
    },
    "tags": []
   },
   "outputs": [
    {
     "name": "stdout",
     "output_type": "stream",
     "text": [
      "3\n",
      "-3.1\n",
      "\n",
      "0\n"
     ]
    }
   ],
   "source": [
    "# Uncomment and run this code to get started!\n",
    "print(3 * True)\n",
    "print(-3.1 * True)\n",
    "print((\"abc\" * False))\n",
    "print(len(\"abc\" * False))"
   ]
  },
  {
   "cell_type": "markdown",
   "id": "a3df80f2",
   "metadata": {
    "papermill": {
     "duration": 0.006379,
     "end_time": "2025-03-27T23:24:11.834328",
     "exception": false,
     "start_time": "2025-03-27T23:24:11.827949",
     "status": "completed"
    },
    "tags": []
   },
   "source": [
    "Once you have an answer, run the code cell below to see the solution.  Viewing the solution will give you credit for answering the problem."
   ]
  },
  {
   "cell_type": "code",
   "execution_count": 6,
   "id": "c1ebf4cf",
   "metadata": {
    "execution": {
     "iopub.execute_input": "2025-03-27T23:24:11.847967Z",
     "iopub.status.busy": "2025-03-27T23:24:11.847624Z",
     "iopub.status.idle": "2025-03-27T23:24:11.856203Z",
     "shell.execute_reply": "2025-03-27T23:24:11.854958Z"
    },
    "papermill": {
     "duration": 0.017925,
     "end_time": "2025-03-27T23:24:11.858593",
     "exception": false,
     "start_time": "2025-03-27T23:24:11.840668",
     "status": "completed"
    },
    "tags": []
   },
   "outputs": [
    {
     "data": {
      "application/javascript": [
       "parent.postMessage({\"jupyterEvent\": \"custom.exercise_interaction\", \"data\": {\"outcomeType\": 1, \"valueTowardsCompletion\": 0.2, \"interactionType\": 1, \"questionType\": 4, \"questionId\": \"2_MultiplyBooleans\", \"learnToolsVersion\": \"0.3.4\", \"failureMessage\": \"\", \"exceptionClass\": \"\", \"trace\": \"\"}}, \"*\")"
      ],
      "text/plain": [
       "<IPython.core.display.Javascript object>"
      ]
     },
     "metadata": {},
     "output_type": "display_data"
    },
    {
     "data": {
      "text/markdown": [
       "<span style=\"color:#33cc33\">Correct:</span> \n",
       "\n",
       "When you multiple an integer or float by a boolean with value `True`, it just returns that same integer or float (and is equivalent to multiplying by 1).  If you multiply an integer or float by a boolean with value `False`, it always returns 0.  This is true for both positive and negative numbers.  If you multiply a string by a boolean with value `True`, it just returns that same string.  And if you multiply a string by a boolean with value `False`, it returns an empty string (or a string with length zero)."
      ],
      "text/plain": [
       "Correct: \n",
       "\n",
       "When you multiple an integer or float by a boolean with value `True`, it just returns that same integer or float (and is equivalent to multiplying by 1).  If you multiply an integer or float by a boolean with value `False`, it always returns 0.  This is true for both positive and negative numbers.  If you multiply a string by a boolean with value `True`, it just returns that same string.  And if you multiply a string by a boolean with value `False`, it returns an empty string (or a string with length zero)."
      ]
     },
     "metadata": {},
     "output_type": "display_data"
    }
   ],
   "source": [
    "# Check your answer (Run this code cell to receive credit!)\n",
    "q2.check()"
   ]
  },
  {
   "cell_type": "markdown",
   "id": "ebb98f94",
   "metadata": {
    "papermill": {
     "duration": 0.006231,
     "end_time": "2025-03-27T23:24:11.871354",
     "exception": false,
     "start_time": "2025-03-27T23:24:11.865123",
     "status": "completed"
    },
    "tags": []
   },
   "source": [
    "# Question 3\n",
    "\n",
    "In this question, you will build off your work from the previous exercise to write a function that estimates the value of a house.\n",
    "\n",
    "Use the next code cell to create a function `get_expected_cost` that takes as input three variables:\n",
    "- `beds` - number of bedrooms (data type float)\n",
    "- `baths` - number of bathrooms (data type float)\n",
    "- `has_basement` - whether or not the house has a basement (data type boolean)\n",
    "\n",
    "It should return the expected cost of a house with those characteristics. Assume that:\n",
    "- the expected cost for a house with 0 bedrooms and 0 bathrooms, and no basement is 80000, \n",
    "- each bedroom adds 30000 to the expected cost,\n",
    "- each bathroom adds 10000 to the expected cost, and\n",
    "- a basement adds 40000 to the expected cost.\n",
    "\n",
    "For instance,\n",
    "- a house with 1 bedroom, 1 bathroom, and no basement has an expected cost of 80000 + 30000 + 10000 = 120000.  This value will be calculated with `get_expected_cost(1, 1, False)`.\n",
    "- a house with 2 bedrooms, 1 bathroom, and a basement has an expected cost of 80000 + 2*30000 + 10000 + 40000 = 190000.  This value will be calculated with `get_expected_cost(2, 1, True)`.\n",
    "\n",
    "Remember you can always get a hint by uncommenting `q3.hint()` in the code cell following the next!"
   ]
  },
  {
   "cell_type": "code",
   "execution_count": 7,
   "id": "7b173d86",
   "metadata": {
    "execution": {
     "iopub.execute_input": "2025-03-27T23:24:11.885638Z",
     "iopub.status.busy": "2025-03-27T23:24:11.885249Z",
     "iopub.status.idle": "2025-03-27T23:24:11.894666Z",
     "shell.execute_reply": "2025-03-27T23:24:11.893204Z"
    },
    "papermill": {
     "duration": 0.019415,
     "end_time": "2025-03-27T23:24:11.896905",
     "exception": false,
     "start_time": "2025-03-27T23:24:11.877490",
     "status": "completed"
    },
    "tags": []
   },
   "outputs": [
    {
     "data": {
      "application/javascript": [
       "parent.postMessage({\"jupyterEvent\": \"custom.exercise_interaction\", \"data\": {\"outcomeType\": 1, \"valueTowardsCompletion\": 0.2, \"interactionType\": 1, \"questionType\": 2, \"questionId\": \"3_EstimateHouseValueBool\", \"learnToolsVersion\": \"0.3.4\", \"failureMessage\": \"\", \"exceptionClass\": \"\", \"trace\": \"\"}}, \"*\")"
      ],
      "text/plain": [
       "<IPython.core.display.Javascript object>"
      ]
     },
     "metadata": {},
     "output_type": "display_data"
    },
    {
     "data": {
      "text/markdown": [
       "<span style=\"color:#33cc33\">Correct</span>"
      ],
      "text/plain": [
       "Correct"
      ]
     },
     "metadata": {},
     "output_type": "display_data"
    }
   ],
   "source": [
    "# TODO: Complete the function\n",
    "def get_expected_cost(beds, baths, has_basement):\n",
    "    value = ((30000*beds) + (10000*baths) + (40000*has_basement)) + 80000\n",
    "    return value\n",
    "\n",
    "# Check your answer \n",
    "q3.check()"
   ]
  },
  {
   "cell_type": "code",
   "execution_count": 8,
   "id": "ad2486c9",
   "metadata": {
    "execution": {
     "iopub.execute_input": "2025-03-27T23:24:11.911120Z",
     "iopub.status.busy": "2025-03-27T23:24:11.910804Z",
     "iopub.status.idle": "2025-03-27T23:24:11.914948Z",
     "shell.execute_reply": "2025-03-27T23:24:11.913749Z"
    },
    "papermill": {
     "duration": 0.013173,
     "end_time": "2025-03-27T23:24:11.916727",
     "exception": false,
     "start_time": "2025-03-27T23:24:11.903554",
     "status": "completed"
    },
    "tags": []
   },
   "outputs": [],
   "source": [
    "# Uncomment to see a hint\n",
    "#q3.hint()\n",
    "\n",
    "# Uncomment to view the solution\n",
    "#q3.solution()"
   ]
  },
  {
   "cell_type": "markdown",
   "id": "73ae04df",
   "metadata": {
    "papermill": {
     "duration": 0.006775,
     "end_time": "2025-03-27T23:24:11.930353",
     "exception": false,
     "start_time": "2025-03-27T23:24:11.923578",
     "status": "completed"
    },
    "tags": []
   },
   "source": [
    "# Question 4\n",
    "\n",
    "We'll continue our study of boolean arithmetic.  For this question, your task is to provide a description of what happpens when you add booleans. \n",
    "\n",
    "Use the next code cell for your investigation.  Feel free to add or remove any lines of code - use it as your workspace!"
   ]
  },
  {
   "cell_type": "code",
   "execution_count": 9,
   "id": "28e004a4",
   "metadata": {
    "execution": {
     "iopub.execute_input": "2025-03-27T23:24:11.947255Z",
     "iopub.status.busy": "2025-03-27T23:24:11.946901Z",
     "iopub.status.idle": "2025-03-27T23:24:11.953143Z",
     "shell.execute_reply": "2025-03-27T23:24:11.951644Z"
    },
    "papermill": {
     "duration": 0.017784,
     "end_time": "2025-03-27T23:24:11.955293",
     "exception": false,
     "start_time": "2025-03-27T23:24:11.937509",
     "status": "completed"
    },
    "tags": []
   },
   "outputs": [
    {
     "name": "stdout",
     "output_type": "stream",
     "text": [
      "0\n",
      "1\n",
      "1\n",
      "2\n",
      "3\n"
     ]
    }
   ],
   "source": [
    "print(False + False) #0\n",
    "print(True + False) #1\n",
    "print(False + True) #1\n",
    "print(True + True) #2\n",
    "print(False + True + True + True) #3"
   ]
  },
  {
   "cell_type": "markdown",
   "id": "0f74ea7b",
   "metadata": {
    "papermill": {
     "duration": 0.006049,
     "end_time": "2025-03-27T23:24:11.968069",
     "exception": false,
     "start_time": "2025-03-27T23:24:11.962020",
     "status": "completed"
    },
    "tags": []
   },
   "source": [
    "Once you have an answer, run the code cell below to see the solution.  Viewing the solution will give you credit for answering the problem."
   ]
  },
  {
   "cell_type": "code",
   "execution_count": 10,
   "id": "91fb762c",
   "metadata": {
    "execution": {
     "iopub.execute_input": "2025-03-27T23:24:11.982732Z",
     "iopub.status.busy": "2025-03-27T23:24:11.982278Z",
     "iopub.status.idle": "2025-03-27T23:24:11.991810Z",
     "shell.execute_reply": "2025-03-27T23:24:11.990636Z"
    },
    "papermill": {
     "duration": 0.019033,
     "end_time": "2025-03-27T23:24:11.993716",
     "exception": false,
     "start_time": "2025-03-27T23:24:11.974683",
     "status": "completed"
    },
    "tags": []
   },
   "outputs": [
    {
     "data": {
      "application/javascript": [
       "parent.postMessage({\"jupyterEvent\": \"custom.exercise_interaction\", \"data\": {\"outcomeType\": 1, \"valueTowardsCompletion\": 0.2, \"interactionType\": 1, \"questionType\": 4, \"questionId\": \"4_AddingBooleans\", \"learnToolsVersion\": \"0.3.4\", \"failureMessage\": \"\", \"exceptionClass\": \"\", \"trace\": \"\"}}, \"*\")"
      ],
      "text/plain": [
       "<IPython.core.display.Javascript object>"
      ]
     },
     "metadata": {},
     "output_type": "display_data"
    },
    {
     "data": {
      "text/markdown": [
       "<span style=\"color:#33cc33\">Correct:</span> \n",
       "\n",
       "When you add booleans, adding `False` is equivalent to adding 0, and adding `True` is equivalent to adding 1."
      ],
      "text/plain": [
       "Correct: \n",
       "\n",
       "When you add booleans, adding `False` is equivalent to adding 0, and adding `True` is equivalent to adding 1."
      ]
     },
     "metadata": {},
     "output_type": "display_data"
    }
   ],
   "source": [
    "# Check your answer (Run this code cell to receive credit!)\n",
    "q4.check()"
   ]
  },
  {
   "cell_type": "markdown",
   "id": "f7636e15",
   "metadata": {
    "papermill": {
     "duration": 0.006689,
     "end_time": "2025-03-27T23:24:12.007249",
     "exception": false,
     "start_time": "2025-03-27T23:24:12.000560",
     "status": "completed"
    },
    "tags": []
   },
   "source": [
    "# 🌶️ Question 5\n",
    "\n",
    "You own an online shop where you sell rings with custom engravings.  You offer both gold plated and solid gold rings.\n",
    "- Gold plated rings have a base cost of \\\\$50, and you charge \\\\$7 per engraved unit.  \n",
    "- Solid gold rings have a base cost of \\\\$100, and you charge \\\\$10 per engraved unit.\n",
    "- Spaces and punctuation are counted as engraved units.\n",
    "\n",
    "Write a function `cost_of_project()` that takes two arguments:\n",
    "- `engraving` - a Python string with the text of the engraving\n",
    "- `solid_gold` - a Boolean that indicates whether the ring is solid gold\n",
    "\n",
    "It should return the cost of the project.  This question should be fairly challenging, and you may need a hint."
   ]
  },
  {
   "cell_type": "code",
   "execution_count": 11,
   "id": "80ba5eb5",
   "metadata": {
    "execution": {
     "iopub.execute_input": "2025-03-27T23:24:12.022300Z",
     "iopub.status.busy": "2025-03-27T23:24:12.021975Z",
     "iopub.status.idle": "2025-03-27T23:24:12.031274Z",
     "shell.execute_reply": "2025-03-27T23:24:12.029914Z"
    },
    "papermill": {
     "duration": 0.018941,
     "end_time": "2025-03-27T23:24:12.033239",
     "exception": false,
     "start_time": "2025-03-27T23:24:12.014298",
     "status": "completed"
    },
    "tags": []
   },
   "outputs": [
    {
     "data": {
      "application/javascript": [
       "parent.postMessage({\"jupyterEvent\": \"custom.exercise_interaction\", \"data\": {\"outcomeType\": 1, \"valueTowardsCompletion\": 0.2, \"interactionType\": 1, \"questionType\": 2, \"questionId\": \"5_CustomEngravings\", \"learnToolsVersion\": \"0.3.4\", \"failureMessage\": \"\", \"exceptionClass\": \"\", \"trace\": \"\"}}, \"*\")"
      ],
      "text/plain": [
       "<IPython.core.display.Javascript object>"
      ]
     },
     "metadata": {},
     "output_type": "display_data"
    },
    {
     "data": {
      "text/markdown": [
       "<span style=\"color:#33cc33\">Correct</span>"
      ],
      "text/plain": [
       "Correct"
      ]
     },
     "metadata": {},
     "output_type": "display_data"
    }
   ],
   "source": [
    "def cost_of_project(engraving, solid_gold):\n",
    "    if (solid_gold ==1):\n",
    "        cost = (10*len(engraving)) + 100\n",
    "    else:\n",
    "        cost = (7*len(engraving)) + 50\n",
    "    return cost\n",
    "\n",
    "# Check your answer\n",
    "q5.check()"
   ]
  },
  {
   "cell_type": "code",
   "execution_count": 12,
   "id": "221dabf8",
   "metadata": {
    "execution": {
     "iopub.execute_input": "2025-03-27T23:24:12.048771Z",
     "iopub.status.busy": "2025-03-27T23:24:12.048413Z",
     "iopub.status.idle": "2025-03-27T23:24:12.055957Z",
     "shell.execute_reply": "2025-03-27T23:24:12.055037Z"
    },
    "papermill": {
     "duration": 0.017378,
     "end_time": "2025-03-27T23:24:12.057719",
     "exception": false,
     "start_time": "2025-03-27T23:24:12.040341",
     "status": "completed"
    },
    "tags": []
   },
   "outputs": [
    {
     "data": {
      "application/javascript": [
       "parent.postMessage({\"jupyterEvent\": \"custom.exercise_interaction\", \"data\": {\"interactionType\": 2, \"questionType\": 2, \"questionId\": \"5_CustomEngravings\", \"learnToolsVersion\": \"0.3.4\", \"valueTowardsCompletion\": 0.0, \"failureMessage\": \"\", \"exceptionClass\": \"\", \"trace\": \"\", \"outcomeType\": 4}}, \"*\")"
      ],
      "text/plain": [
       "<IPython.core.display.Javascript object>"
      ]
     },
     "metadata": {},
     "output_type": "display_data"
    },
    {
     "data": {
      "text/markdown": [
       "<span style=\"color:#3366cc\">Hint:</span> There are two options - either the project uses solid gold or does not.  With this in mind, you can structure your solution like this: `cost = solid_gold * ____ + (not solid_gold) * ____`.  You need to figure out how to fill in the blanks. Also, remember that:\n",
       "- If `solid_gold = True`, then `(not solid_gold) = False`, and if `solid_gold = False`, then `(not solid_gold) = True`.\n",
       "- Multiplying an integer by `True` is equivalent to multiplying it by 1, and multiplying an integer by `False` is equivalent to multiplying it by 0."
      ],
      "text/plain": [
       "Hint: There are two options - either the project uses solid gold or does not.  With this in mind, you can structure your solution like this: `cost = solid_gold * ____ + (not solid_gold) * ____`.  You need to figure out how to fill in the blanks. Also, remember that:\n",
       "- If `solid_gold = True`, then `(not solid_gold) = False`, and if `solid_gold = False`, then `(not solid_gold) = True`.\n",
       "- Multiplying an integer by `True` is equivalent to multiplying it by 1, and multiplying an integer by `False` is equivalent to multiplying it by 0."
      ]
     },
     "metadata": {},
     "output_type": "display_data"
    }
   ],
   "source": [
    "# Uncomment to see a hint\n",
    "q5.hint()\n",
    "\n",
    "# Uncomment to view the solution\n",
    "#q5.solution()"
   ]
  },
  {
   "cell_type": "markdown",
   "id": "39fecfa1",
   "metadata": {
    "papermill": {
     "duration": 0.006762,
     "end_time": "2025-03-27T23:24:12.071880",
     "exception": false,
     "start_time": "2025-03-27T23:24:12.065118",
     "status": "completed"
    },
    "tags": []
   },
   "source": [
    "Run the next code cell to calculate the cost of engraving `Charlie+Denver` on a solid gold ring."
   ]
  },
  {
   "cell_type": "code",
   "execution_count": 13,
   "id": "aba4a736",
   "metadata": {
    "execution": {
     "iopub.execute_input": "2025-03-27T23:24:12.087128Z",
     "iopub.status.busy": "2025-03-27T23:24:12.086779Z",
     "iopub.status.idle": "2025-03-27T23:24:12.092100Z",
     "shell.execute_reply": "2025-03-27T23:24:12.090835Z"
    },
    "papermill": {
     "duration": 0.015195,
     "end_time": "2025-03-27T23:24:12.093898",
     "exception": false,
     "start_time": "2025-03-27T23:24:12.078703",
     "status": "completed"
    },
    "tags": []
   },
   "outputs": [
    {
     "name": "stdout",
     "output_type": "stream",
     "text": [
      "240\n"
     ]
    }
   ],
   "source": [
    "project_one = cost_of_project(\"Charlie+Denver\", True)\n",
    "print(project_one)"
   ]
  },
  {
   "cell_type": "markdown",
   "id": "7f18da22",
   "metadata": {
    "papermill": {
     "duration": 0.007008,
     "end_time": "2025-03-27T23:24:12.108171",
     "exception": false,
     "start_time": "2025-03-27T23:24:12.101163",
     "status": "completed"
    },
    "tags": []
   },
   "source": [
    "Use the next code cell to calculate the cost of engraving `08/10/2000` on a gold plated ring."
   ]
  },
  {
   "cell_type": "code",
   "execution_count": 14,
   "id": "25043ad6",
   "metadata": {
    "execution": {
     "iopub.execute_input": "2025-03-27T23:24:12.124335Z",
     "iopub.status.busy": "2025-03-27T23:24:12.123982Z",
     "iopub.status.idle": "2025-03-27T23:24:12.129906Z",
     "shell.execute_reply": "2025-03-27T23:24:12.128785Z"
    },
    "papermill": {
     "duration": 0.015838,
     "end_time": "2025-03-27T23:24:12.131558",
     "exception": false,
     "start_time": "2025-03-27T23:24:12.115720",
     "status": "completed"
    },
    "tags": []
   },
   "outputs": [
    {
     "name": "stdout",
     "output_type": "stream",
     "text": [
      "120\n"
     ]
    }
   ],
   "source": [
    "project_two = cost_of_project(\"08/10/2000\", False)\n",
    "print(project_two)"
   ]
  },
  {
   "cell_type": "markdown",
   "id": "e1aa0533",
   "metadata": {
    "papermill": {
     "duration": 0.007146,
     "end_time": "2025-03-27T23:24:12.146099",
     "exception": false,
     "start_time": "2025-03-27T23:24:12.138953",
     "status": "completed"
    },
    "tags": []
   },
   "source": [
    "# Keep going\n",
    "\n",
    "Continue to the next lesson to **[learn about conditions and conditional statements](https://www.kaggle.com/alexisbcook/conditions-and-conditional-statements)**."
   ]
  },
  {
   "cell_type": "markdown",
   "id": "508dc162",
   "metadata": {
    "papermill": {
     "duration": 0.006875,
     "end_time": "2025-03-27T23:24:12.160495",
     "exception": false,
     "start_time": "2025-03-27T23:24:12.153620",
     "status": "completed"
    },
    "tags": []
   },
   "source": [
    "---\n",
    "\n",
    "\n",
    "\n",
    "\n",
    "*Have questions or comments? Visit the [course discussion forum](https://www.kaggle.com/learn/intro-to-programming/discussion) to chat with other learners.*"
   ]
  }
 ],
 "metadata": {
  "kaggle": {
   "accelerator": "none",
   "dataSources": [],
   "isGpuEnabled": false,
   "isInternetEnabled": false,
   "language": "python",
   "sourceType": "notebook"
  },
  "kernelspec": {
   "display_name": "Python 3",
   "language": "python",
   "name": "python3"
  },
  "language_info": {
   "codemirror_mode": {
    "name": "ipython",
    "version": 3
   },
   "file_extension": ".py",
   "mimetype": "text/x-python",
   "name": "python",
   "nbconvert_exporter": "python",
   "pygments_lexer": "ipython3",
   "version": "3.10.12"
  },
  "papermill": {
   "default_parameters": {},
   "duration": 5.276016,
   "end_time": "2025-03-27T23:24:12.788379",
   "environment_variables": {},
   "exception": null,
   "input_path": "__notebook__.ipynb",
   "output_path": "__notebook__.ipynb",
   "parameters": {},
   "start_time": "2025-03-27T23:24:07.512363",
   "version": "2.3.3"
  }
 },
 "nbformat": 4,
 "nbformat_minor": 5
}
