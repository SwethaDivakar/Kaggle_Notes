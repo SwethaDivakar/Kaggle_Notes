{
 "cells": [
  {
   "cell_type": "markdown",
   "id": "69fb8dbb",
   "metadata": {
    "papermill": {
     "duration": 0.005999,
     "end_time": "2025-03-27T23:17:01.365026",
     "exception": false,
     "start_time": "2025-03-27T23:17:01.359027",
     "status": "completed"
    },
    "tags": []
   },
   "source": [
    "**This notebook is an exercise in the [Python](https://www.kaggle.com/learn/python) course.  You can reference the tutorial at [this link](https://www.kaggle.com/colinmorris/hello-python).**\n",
    "\n",
    "---\n"
   ]
  },
  {
   "cell_type": "markdown",
   "id": "2907c1be",
   "metadata": {
    "papermill": {
     "duration": 0.005059,
     "end_time": "2025-03-27T23:17:01.375648",
     "exception": false,
     "start_time": "2025-03-27T23:17:01.370589",
     "status": "completed"
    },
    "tags": []
   },
   "source": [
    "Welcome to your first set of Python coding problems.  If this is your first time using Kaggle Notebooks, welcome! \n",
    "\n",
    "Notebooks are composed of blocks (called \"cells\") of text and code. Each of these is editable, though you'll mainly be editing the code cells to answer some questions.\n",
    "\n",
    "To get started, try running the code cell below (by pressing the ► button, or clicking on the cell and pressing ctrl+enter on your keyboard)."
   ]
  },
  {
   "cell_type": "code",
   "execution_count": 1,
   "id": "ad543fe3",
   "metadata": {
    "execution": {
     "iopub.execute_input": "2025-03-27T23:17:01.387345Z",
     "iopub.status.busy": "2025-03-27T23:17:01.387021Z",
     "iopub.status.idle": "2025-03-27T23:17:01.393897Z",
     "shell.execute_reply": "2025-03-27T23:17:01.392842Z"
    },
    "papermill": {
     "duration": 0.0146,
     "end_time": "2025-03-27T23:17:01.395436",
     "exception": false,
     "start_time": "2025-03-27T23:17:01.380836",
     "status": "completed"
    },
    "tags": []
   },
   "outputs": [
    {
     "name": "stdout",
     "output_type": "stream",
     "text": [
      "You've successfully run some Python code\n",
      "Congratulations!\n"
     ]
    }
   ],
   "source": [
    "print(\"You've successfully run some Python code\")\n",
    "print(\"Congratulations!\")"
   ]
  },
  {
   "cell_type": "markdown",
   "id": "0852722c",
   "metadata": {
    "papermill": {
     "duration": 0.005141,
     "end_time": "2025-03-27T23:17:01.406269",
     "exception": false,
     "start_time": "2025-03-27T23:17:01.401128",
     "status": "completed"
    },
    "tags": []
   },
   "source": [
    "Try adding another line of code in the cell above and re-running it. \n",
    "\n",
    "Now let's get a little fancier:  Add a new code cell by clicking on an existing code cell, hitting the escape key, and then hitting the `a` or `b` key.  The `a` key will add a cell above the current cell, and `b` adds a cell below.\n",
    "\n",
    "Great! Now you know how to use Notebooks.\n",
    "\n",
    "Each hands-on exercise starts by setting up our feedback and code checking mechanism. Run the code cell below to do that. Then you'll be ready to move on to question 0."
   ]
  },
  {
   "cell_type": "code",
   "execution_count": 2,
   "id": "c286a85b",
   "metadata": {
    "_kg_hide-input": true,
    "_kg_hide-output": true,
    "execution": {
     "iopub.execute_input": "2025-03-27T23:17:01.418297Z",
     "iopub.status.busy": "2025-03-27T23:17:01.417929Z",
     "iopub.status.idle": "2025-03-27T23:17:02.361086Z",
     "shell.execute_reply": "2025-03-27T23:17:02.359857Z"
    },
    "papermill": {
     "duration": 0.95136,
     "end_time": "2025-03-27T23:17:02.363042",
     "exception": false,
     "start_time": "2025-03-27T23:17:01.411682",
     "status": "completed"
    },
    "tags": []
   },
   "outputs": [
    {
     "name": "stdout",
     "output_type": "stream",
     "text": [
      "Setup complete! You're ready to start question 0.\n"
     ]
    }
   ],
   "source": [
    "from learntools.core import binder; binder.bind(globals())\n",
    "from learntools.python.ex1 import *\n",
    "print(\"Setup complete! You're ready to start question 0.\")"
   ]
  },
  {
   "cell_type": "markdown",
   "id": "cfa1e29e",
   "metadata": {
    "papermill": {
     "duration": 0.005229,
     "end_time": "2025-03-27T23:17:02.373885",
     "exception": false,
     "start_time": "2025-03-27T23:17:02.368656",
     "status": "completed"
    },
    "tags": []
   },
   "source": [
    "# 0.\n",
    "\n",
    "*This is a silly question intended as an introduction to the format we use for hands-on exercises throughout all Kaggle courses.*\n",
    "\n",
    "**What is your favorite color? **\n",
    "\n",
    "To complete this question, create a variable called `color` in the cell below with an appropriate value. The function call `q0.check()` (which we've already provided in the cell below) will check your answer."
   ]
  },
  {
   "cell_type": "code",
   "execution_count": 3,
   "id": "14b52695",
   "metadata": {
    "execution": {
     "iopub.execute_input": "2025-03-27T23:17:02.385940Z",
     "iopub.status.busy": "2025-03-27T23:17:02.385470Z",
     "iopub.status.idle": "2025-03-27T23:17:02.394133Z",
     "shell.execute_reply": "2025-03-27T23:17:02.393108Z"
    },
    "papermill": {
     "duration": 0.016758,
     "end_time": "2025-03-27T23:17:02.395900",
     "exception": false,
     "start_time": "2025-03-27T23:17:02.379142",
     "status": "completed"
    },
    "tags": []
   },
   "outputs": [
    {
     "data": {
      "application/javascript": [
       "parent.postMessage({\"jupyterEvent\": \"custom.exercise_interaction\", \"data\": {\"outcomeType\": 1, \"valueTowardsCompletion\": 0.25, \"interactionType\": 1, \"questionType\": 2, \"questionId\": \"0_ExerciseFormatTutorial\", \"learnToolsVersion\": \"0.3.4\", \"failureMessage\": \"\", \"exceptionClass\": \"\", \"trace\": \"\"}}, \"*\")"
      ],
      "text/plain": [
       "<IPython.core.display.Javascript object>"
      ]
     },
     "metadata": {},
     "output_type": "display_data"
    },
    {
     "data": {
      "text/markdown": [
       "<span style=\"color:#33cc33\">Correct:</span> What?! You got it right without needing a hint or anything? Drats. Well hey, you should still continue to the next step to get some practice asking for a hint and checking solutions. (Even though you obviously don't need any help here.)"
      ],
      "text/plain": [
       "Correct: What?! You got it right without needing a hint or anything? Drats. Well hey, you should still continue to the next step to get some practice asking for a hint and checking solutions. (Even though you obviously don't need any help here.)"
      ]
     },
     "metadata": {},
     "output_type": "display_data"
    }
   ],
   "source": [
    "# create a variable called color with an appropriate value on the line below\n",
    "# (Remember, strings in Python must be enclosed in 'single' or \"double\" quotes)\n",
    "color = 'BLUE'\n",
    "\n",
    "# Check your answer\n",
    "q0.check()"
   ]
  },
  {
   "cell_type": "markdown",
   "id": "5e5748e9",
   "metadata": {
    "papermill": {
     "duration": 0.005401,
     "end_time": "2025-03-27T23:17:02.407138",
     "exception": false,
     "start_time": "2025-03-27T23:17:02.401737",
     "status": "completed"
    },
    "tags": []
   },
   "source": [
    "Didn't get the right answer? How do you not even know your own favorite color?!\n",
    "\n",
    "Delete the `#` in the line below to make one of the lines run. You can choose between getting a hint or the full answer by choosing which line to remove the `#` from. \n",
    "\n",
    "Removing the `#` is called uncommenting, because it changes that line from a \"comment\" which Python doesn't run to code, which Python does run."
   ]
  },
  {
   "cell_type": "code",
   "execution_count": 4,
   "id": "bbfb3039",
   "metadata": {
    "execution": {
     "iopub.execute_input": "2025-03-27T23:17:02.419697Z",
     "iopub.status.busy": "2025-03-27T23:17:02.419313Z",
     "iopub.status.idle": "2025-03-27T23:17:02.426246Z",
     "shell.execute_reply": "2025-03-27T23:17:02.425445Z"
    },
    "papermill": {
     "duration": 0.014913,
     "end_time": "2025-03-27T23:17:02.427781",
     "exception": false,
     "start_time": "2025-03-27T23:17:02.412868",
     "status": "completed"
    },
    "tags": []
   },
   "outputs": [
    {
     "data": {
      "application/javascript": [
       "parent.postMessage({\"jupyterEvent\": \"custom.exercise_interaction\", \"data\": {\"interactionType\": 2, \"questionType\": 2, \"questionId\": \"0_ExerciseFormatTutorial\", \"learnToolsVersion\": \"0.3.4\", \"valueTowardsCompletion\": 0.0, \"failureMessage\": \"\", \"exceptionClass\": \"\", \"trace\": \"\", \"outcomeType\": 4}}, \"*\")"
      ],
      "text/plain": [
       "<IPython.core.display.Javascript object>"
      ]
     },
     "metadata": {},
     "output_type": "display_data"
    },
    {
     "data": {
      "text/markdown": [
       "<span style=\"color:#3366cc\">Hint:</span> Your favorite color rhymes with *glue*."
      ],
      "text/plain": [
       "Hint: Your favorite color rhymes with *glue*."
      ]
     },
     "metadata": {},
     "output_type": "display_data"
    }
   ],
   "source": [
    "q0.hint()\n",
    "#q0.solution()"
   ]
  },
  {
   "cell_type": "markdown",
   "id": "3282a323",
   "metadata": {
    "papermill": {
     "duration": 0.006032,
     "end_time": "2025-03-27T23:17:02.440081",
     "exception": false,
     "start_time": "2025-03-27T23:17:02.434049",
     "status": "completed"
    },
    "tags": []
   },
   "source": [
    "The upcoming questions work the same way. The only thing that will change are the question numbers. For the next question, you'll call `q1.check()`, `q1.hint()`, `q1.solution()`, for question 2, you'll call `q2.check()`, and so on."
   ]
  },
  {
   "cell_type": "markdown",
   "id": "fed51941",
   "metadata": {
    "papermill": {
     "duration": 0.006104,
     "end_time": "2025-03-27T23:17:02.452386",
     "exception": false,
     "start_time": "2025-03-27T23:17:02.446282",
     "status": "completed"
    },
    "tags": []
   },
   "source": [
    "<hr/>\n",
    "\n",
    "# 1.\n",
    "\n",
    "Complete the code below. In case it's helpful, here is the table of available arithmetic operations:\n",
    "\n",
    "\n",
    "\n",
    "| Operator     | Name           | Description                                            |\n",
    "|--------------|----------------|--------------------------------------------------------|\n",
    "| ``a + b``    | Addition       | Sum of ``a`` and ``b``                                 |\n",
    "| ``a - b``    | Subtraction    | Difference of ``a`` and ``b``                          |\n",
    "| ``a * b``    | Multiplication | Product of ``a`` and ``b``                             |\n",
    "| ``a / b``    | True division  | Quotient of ``a`` and ``b``                            |\n",
    "| ``a // b``   | Floor division | Quotient of ``a`` and ``b``, removing fractional parts |\n",
    "| ``a % b``    | Modulus        | Integer remainder after division of ``a`` by ``b``     |\n",
    "| ``a ** b``   | Exponentiation | ``a`` raised to the power of ``b``                     |\n",
    "| ``-a``       | Negation       | The negative of ``a``                                  |\n",
    "\n",
    "<span style=\"display:none\"></span>\n"
   ]
  },
  {
   "cell_type": "code",
   "execution_count": 5,
   "id": "710b644c",
   "metadata": {
    "execution": {
     "iopub.execute_input": "2025-03-27T23:17:02.465214Z",
     "iopub.status.busy": "2025-03-27T23:17:02.464881Z",
     "iopub.status.idle": "2025-03-27T23:17:02.472531Z",
     "shell.execute_reply": "2025-03-27T23:17:02.471474Z"
    },
    "papermill": {
     "duration": 0.016047,
     "end_time": "2025-03-27T23:17:02.474144",
     "exception": false,
     "start_time": "2025-03-27T23:17:02.458097",
     "status": "completed"
    },
    "tags": []
   },
   "outputs": [
    {
     "data": {
      "application/javascript": [
       "parent.postMessage({\"jupyterEvent\": \"custom.exercise_interaction\", \"data\": {\"outcomeType\": 1, \"valueTowardsCompletion\": 0.25, \"interactionType\": 1, \"questionType\": 1, \"questionId\": \"1_CircleArea\", \"learnToolsVersion\": \"0.3.4\", \"failureMessage\": \"\", \"exceptionClass\": \"\", \"trace\": \"\"}}, \"*\")"
      ],
      "text/plain": [
       "<IPython.core.display.Javascript object>"
      ]
     },
     "metadata": {},
     "output_type": "display_data"
    },
    {
     "data": {
      "text/markdown": [
       "<span style=\"color:#33cc33\">Correct</span>"
      ],
      "text/plain": [
       "Correct"
      ]
     },
     "metadata": {},
     "output_type": "display_data"
    }
   ],
   "source": [
    "pi = 3.14159 # approximate\n",
    "diameter = 3\n",
    "\n",
    "# Create a variable called 'radius' equal to half the diameter\n",
    "radius = diameter/2\n",
    "\n",
    "# Create a variable called 'area', using the formula for the area of a circle: pi times the radius squared\n",
    "area = pi*(radius**2)\n",
    "\n",
    "# Check your answer\n",
    "q1.check()"
   ]
  },
  {
   "cell_type": "code",
   "execution_count": 6,
   "id": "91813eab",
   "metadata": {
    "execution": {
     "iopub.execute_input": "2025-03-27T23:17:02.487755Z",
     "iopub.status.busy": "2025-03-27T23:17:02.487333Z",
     "iopub.status.idle": "2025-03-27T23:17:02.491124Z",
     "shell.execute_reply": "2025-03-27T23:17:02.490184Z"
    },
    "papermill": {
     "duration": 0.012482,
     "end_time": "2025-03-27T23:17:02.492890",
     "exception": false,
     "start_time": "2025-03-27T23:17:02.480408",
     "status": "completed"
    },
    "tags": []
   },
   "outputs": [],
   "source": [
    "# Uncomment and run the lines below if you need help.\n",
    "#q1.hint()\n",
    "#q1.solution()"
   ]
  },
  {
   "cell_type": "markdown",
   "id": "33172545",
   "metadata": {
    "papermill": {
     "duration": 0.006089,
     "end_time": "2025-03-27T23:17:02.505290",
     "exception": false,
     "start_time": "2025-03-27T23:17:02.499201",
     "status": "completed"
    },
    "tags": []
   },
   "source": [
    "<hr/>\n",
    "\n",
    "# 2.\n",
    "\n",
    "Add code to the following cell to swap variables `a` and `b` (so that `a` refers to the object previously referred to by `b` and vice versa)."
   ]
  },
  {
   "cell_type": "code",
   "execution_count": 7,
   "id": "1f865a0c",
   "metadata": {
    "execution": {
     "iopub.execute_input": "2025-03-27T23:17:02.519781Z",
     "iopub.status.busy": "2025-03-27T23:17:02.519442Z",
     "iopub.status.idle": "2025-03-27T23:17:02.528264Z",
     "shell.execute_reply": "2025-03-27T23:17:02.527206Z"
    },
    "papermill": {
     "duration": 0.017863,
     "end_time": "2025-03-27T23:17:02.529857",
     "exception": false,
     "start_time": "2025-03-27T23:17:02.511994",
     "status": "completed"
    },
    "tags": []
   },
   "outputs": [
    {
     "data": {
      "application/javascript": [
       "parent.postMessage({\"jupyterEvent\": \"custom.exercise_interaction\", \"data\": {\"outcomeType\": 1, \"valueTowardsCompletion\": 0.25, \"interactionType\": 1, \"questionType\": 2, \"questionId\": \"2_VariableSwap\", \"learnToolsVersion\": \"0.3.4\", \"failureMessage\": \"\", \"exceptionClass\": \"\", \"trace\": \"\"}}, \"*\")"
      ],
      "text/plain": [
       "<IPython.core.display.Javascript object>"
      ]
     },
     "metadata": {},
     "output_type": "display_data"
    },
    {
     "data": {
      "text/markdown": [
       "<span style=\"color:#33cc33\">Correct:</span> \n",
       "\n",
       "The most straightforward solution is to use a third variable to temporarily store one of the old values. e.g.:\n",
       "\n",
       "    tmp = a\n",
       "    a = b\n",
       "    b = tmp\n",
       "\n",
       "If you've read lots of Python code, you might have seen the following trick to swap two variables in one line:\n",
       "\n",
       "    a, b = b, a\n",
       "\n",
       "We'll demystify this bit of Python magic later when we talk about *tuples*."
      ],
      "text/plain": [
       "Correct: \n",
       "\n",
       "The most straightforward solution is to use a third variable to temporarily store one of the old values. e.g.:\n",
       "\n",
       "    tmp = a\n",
       "    a = b\n",
       "    b = tmp\n",
       "\n",
       "If you've read lots of Python code, you might have seen the following trick to swap two variables in one line:\n",
       "\n",
       "    a, b = b, a\n",
       "\n",
       "We'll demystify this bit of Python magic later when we talk about *tuples*."
      ]
     },
     "metadata": {},
     "output_type": "display_data"
    }
   ],
   "source": [
    "########### Setup code - don't touch this part ######################\n",
    "# If you're curious, these are examples of lists. We'll talk about \n",
    "# them in depth a few lessons from now. For now, just know that they're\n",
    "# yet another type of Python object, like int or float.\n",
    "a = [1, 2, 3]\n",
    "b = [3, 2, 1]\n",
    "q2.store_original_ids()\n",
    "######################################################################\n",
    "\n",
    "# Your code goes here. Swap the values to which a and b refer.\n",
    "# If you get stuck, you can always uncomment one or both of the lines in\n",
    "# the next cell for a hint, or to peek at the solution.\n",
    "\n",
    "######################################################################\n",
    "c = a\n",
    "a = b\n",
    "b = c\n",
    "\n",
    "# Check your answer\n",
    "q2.check()"
   ]
  },
  {
   "cell_type": "code",
   "execution_count": 8,
   "id": "022965aa",
   "metadata": {
    "execution": {
     "iopub.execute_input": "2025-03-27T23:17:02.544741Z",
     "iopub.status.busy": "2025-03-27T23:17:02.544391Z",
     "iopub.status.idle": "2025-03-27T23:17:02.548627Z",
     "shell.execute_reply": "2025-03-27T23:17:02.547523Z"
    },
    "papermill": {
     "duration": 0.013601,
     "end_time": "2025-03-27T23:17:02.550547",
     "exception": false,
     "start_time": "2025-03-27T23:17:02.536946",
     "status": "completed"
    },
    "tags": []
   },
   "outputs": [],
   "source": [
    "#q2.hint()"
   ]
  },
  {
   "cell_type": "code",
   "execution_count": 9,
   "id": "c7a92c7e",
   "metadata": {
    "execution": {
     "iopub.execute_input": "2025-03-27T23:17:02.564824Z",
     "iopub.status.busy": "2025-03-27T23:17:02.564479Z",
     "iopub.status.idle": "2025-03-27T23:17:02.568026Z",
     "shell.execute_reply": "2025-03-27T23:17:02.567153Z"
    },
    "papermill": {
     "duration": 0.012612,
     "end_time": "2025-03-27T23:17:02.569636",
     "exception": false,
     "start_time": "2025-03-27T23:17:02.557024",
     "status": "completed"
    },
    "tags": []
   },
   "outputs": [],
   "source": [
    "#q2.solution()"
   ]
  },
  {
   "cell_type": "markdown",
   "id": "1a2fe1b0",
   "metadata": {
    "papermill": {
     "duration": 0.00644,
     "end_time": "2025-03-27T23:17:02.582640",
     "exception": false,
     "start_time": "2025-03-27T23:17:02.576200",
     "status": "completed"
    },
    "tags": []
   },
   "source": [
    "<hr/>\n",
    "\n",
    "# 3a.\n",
    "\n",
    "Add parentheses to the following expression so that it evaluates to 1."
   ]
  },
  {
   "cell_type": "code",
   "execution_count": 10,
   "id": "5c18e0ad",
   "metadata": {
    "execution": {
     "iopub.execute_input": "2025-03-27T23:17:02.597401Z",
     "iopub.status.busy": "2025-03-27T23:17:02.597032Z",
     "iopub.status.idle": "2025-03-27T23:17:02.602718Z",
     "shell.execute_reply": "2025-03-27T23:17:02.601852Z"
    },
    "papermill": {
     "duration": 0.01479,
     "end_time": "2025-03-27T23:17:02.604327",
     "exception": false,
     "start_time": "2025-03-27T23:17:02.589537",
     "status": "completed"
    },
    "tags": []
   },
   "outputs": [
    {
     "data": {
      "text/plain": [
       "1"
      ]
     },
     "execution_count": 10,
     "metadata": {},
     "output_type": "execute_result"
    }
   ],
   "source": [
    "(5 - 3) // 2"
   ]
  },
  {
   "cell_type": "code",
   "execution_count": 11,
   "id": "67eaf175",
   "metadata": {
    "execution": {
     "iopub.execute_input": "2025-03-27T23:17:02.619532Z",
     "iopub.status.busy": "2025-03-27T23:17:02.619156Z",
     "iopub.status.idle": "2025-03-27T23:17:02.622983Z",
     "shell.execute_reply": "2025-03-27T23:17:02.621985Z"
    },
    "papermill": {
     "duration": 0.013613,
     "end_time": "2025-03-27T23:17:02.624754",
     "exception": false,
     "start_time": "2025-03-27T23:17:02.611141",
     "status": "completed"
    },
    "tags": []
   },
   "outputs": [],
   "source": [
    "#q3.a.hint()"
   ]
  },
  {
   "cell_type": "code",
   "execution_count": 12,
   "id": "895b4e8b",
   "metadata": {
    "execution": {
     "iopub.execute_input": "2025-03-27T23:17:02.639485Z",
     "iopub.status.busy": "2025-03-27T23:17:02.639084Z",
     "iopub.status.idle": "2025-03-27T23:17:02.646758Z",
     "shell.execute_reply": "2025-03-27T23:17:02.645784Z"
    },
    "papermill": {
     "duration": 0.016848,
     "end_time": "2025-03-27T23:17:02.648434",
     "exception": false,
     "start_time": "2025-03-27T23:17:02.631586",
     "status": "completed"
    },
    "tags": []
   },
   "outputs": [
    {
     "data": {
      "application/javascript": [
       "parent.postMessage({\"jupyterEvent\": \"custom.exercise_interaction\", \"data\": {\"interactionType\": 3, \"questionType\": 4, \"questionId\": \"3.1_ArithmeticParensEasy\", \"learnToolsVersion\": \"0.3.4\", \"valueTowardsCompletion\": 0.0, \"failureMessage\": \"\", \"exceptionClass\": \"\", \"trace\": \"\", \"outcomeType\": 4}}, \"*\")"
      ],
      "text/plain": [
       "<IPython.core.display.Javascript object>"
      ]
     },
     "metadata": {},
     "output_type": "display_data"
    },
    {
     "data": {
      "text/markdown": [
       "<span style=\"color:#33cc99\">Solution:</span> \n",
       "```python\n",
       "(5 - 3) // 2\n",
       "```"
      ],
      "text/plain": [
       "Solution: \n",
       "```python\n",
       "(5 - 3) // 2\n",
       "```"
      ]
     },
     "metadata": {},
     "output_type": "display_data"
    }
   ],
   "source": [
    "# Check your answer (Run this code cell to receive credit!)\n",
    "q3.a.solution()"
   ]
  },
  {
   "cell_type": "markdown",
   "id": "2b20f429",
   "metadata": {
    "papermill": {
     "duration": 0.006528,
     "end_time": "2025-03-27T23:17:02.662093",
     "exception": false,
     "start_time": "2025-03-27T23:17:02.655565",
     "status": "completed"
    },
    "tags": []
   },
   "source": [
    "# 3b.  <span title=\"A bit spicy\" style=\"color: darkgreen \">🌶️</span>\n",
    "\n",
    "<small>Questions, like this one, marked a spicy pepper are a bit harder.</small>\n",
    "\n",
    "Add parentheses to the following expression so that it evaluates to 0."
   ]
  },
  {
   "cell_type": "code",
   "execution_count": 13,
   "id": "a0e5985d",
   "metadata": {
    "execution": {
     "iopub.execute_input": "2025-03-27T23:17:02.676889Z",
     "iopub.status.busy": "2025-03-27T23:17:02.676528Z",
     "iopub.status.idle": "2025-03-27T23:17:02.682053Z",
     "shell.execute_reply": "2025-03-27T23:17:02.681056Z"
    },
    "papermill": {
     "duration": 0.014881,
     "end_time": "2025-03-27T23:17:02.683734",
     "exception": false,
     "start_time": "2025-03-27T23:17:02.668853",
     "status": "completed"
    },
    "tags": []
   },
   "outputs": [
    {
     "data": {
      "text/plain": [
       "0"
      ]
     },
     "execution_count": 13,
     "metadata": {},
     "output_type": "execute_result"
    }
   ],
   "source": [
    "(8 - 3) * (2 - (1 + 1))"
   ]
  },
  {
   "cell_type": "code",
   "execution_count": 14,
   "id": "5950a738",
   "metadata": {
    "execution": {
     "iopub.execute_input": "2025-03-27T23:17:02.698849Z",
     "iopub.status.busy": "2025-03-27T23:17:02.698465Z",
     "iopub.status.idle": "2025-03-27T23:17:02.702392Z",
     "shell.execute_reply": "2025-03-27T23:17:02.701407Z"
    },
    "papermill": {
     "duration": 0.01333,
     "end_time": "2025-03-27T23:17:02.704123",
     "exception": false,
     "start_time": "2025-03-27T23:17:02.690793",
     "status": "completed"
    },
    "tags": []
   },
   "outputs": [],
   "source": [
    "#q3.b.hint()"
   ]
  },
  {
   "cell_type": "code",
   "execution_count": 15,
   "id": "74da1ebb",
   "metadata": {
    "execution": {
     "iopub.execute_input": "2025-03-27T23:17:02.720099Z",
     "iopub.status.busy": "2025-03-27T23:17:02.719777Z",
     "iopub.status.idle": "2025-03-27T23:17:02.726931Z",
     "shell.execute_reply": "2025-03-27T23:17:02.725992Z"
    },
    "papermill": {
     "duration": 0.016859,
     "end_time": "2025-03-27T23:17:02.728476",
     "exception": false,
     "start_time": "2025-03-27T23:17:02.711617",
     "status": "completed"
    },
    "tags": []
   },
   "outputs": [
    {
     "data": {
      "application/javascript": [
       "parent.postMessage({\"jupyterEvent\": \"custom.exercise_interaction\", \"data\": {\"interactionType\": 3, \"questionType\": 4, \"questionId\": \"3.2_ArithmeticParensHard\", \"learnToolsVersion\": \"0.3.4\", \"valueTowardsCompletion\": 0.0, \"failureMessage\": \"\", \"exceptionClass\": \"\", \"trace\": \"\", \"outcomeType\": 4}}, \"*\")"
      ],
      "text/plain": [
       "<IPython.core.display.Javascript object>"
      ]
     },
     "metadata": {},
     "output_type": "display_data"
    },
    {
     "data": {
      "text/markdown": [
       "<span style=\"color:#33cc99\">Solution:</span> `(8 - 3) * (2 - (1 + 1))` is one solution. There may be others."
      ],
      "text/plain": [
       "Solution: `(8 - 3) * (2 - (1 + 1))` is one solution. There may be others."
      ]
     },
     "metadata": {},
     "output_type": "display_data"
    }
   ],
   "source": [
    "# Check your answer (Run this code cell to receive credit!)\n",
    "q3.b.solution()"
   ]
  },
  {
   "cell_type": "markdown",
   "id": "5700f7d5",
   "metadata": {
    "papermill": {
     "duration": 0.007262,
     "end_time": "2025-03-27T23:17:02.743074",
     "exception": false,
     "start_time": "2025-03-27T23:17:02.735812",
     "status": "completed"
    },
    "tags": []
   },
   "source": [
    "<hr/>\n",
    "\n",
    "# 4. \n",
    "Alice, Bob and Carol have agreed to pool their Halloween candy and split it evenly among themselves.\n",
    "For the sake of their friendship, any candies left over will be smashed. For example, if they collectively\n",
    "bring home 91 candies, they'll take 30 each and smash 1.\n",
    "\n",
    "Write an arithmetic expression below to calculate how many candies they must smash for a given haul."
   ]
  },
  {
   "cell_type": "code",
   "execution_count": 16,
   "id": "e76019c3",
   "metadata": {
    "execution": {
     "iopub.execute_input": "2025-03-27T23:17:02.760089Z",
     "iopub.status.busy": "2025-03-27T23:17:02.759737Z",
     "iopub.status.idle": "2025-03-27T23:17:02.768475Z",
     "shell.execute_reply": "2025-03-27T23:17:02.767247Z"
    },
    "papermill": {
     "duration": 0.01971,
     "end_time": "2025-03-27T23:17:02.770118",
     "exception": false,
     "start_time": "2025-03-27T23:17:02.750408",
     "status": "completed"
    },
    "tags": []
   },
   "outputs": [
    {
     "data": {
      "application/javascript": [
       "parent.postMessage({\"jupyterEvent\": \"custom.exercise_interaction\", \"data\": {\"outcomeType\": 1, \"valueTowardsCompletion\": 0.25, \"interactionType\": 1, \"questionType\": 1, \"questionId\": \"4_CandySplitting\", \"learnToolsVersion\": \"0.3.4\", \"failureMessage\": \"\", \"exceptionClass\": \"\", \"trace\": \"\"}}, \"*\")"
      ],
      "text/plain": [
       "<IPython.core.display.Javascript object>"
      ]
     },
     "metadata": {},
     "output_type": "display_data"
    },
    {
     "data": {
      "text/markdown": [
       "<span style=\"color:#33cc33\">Correct</span>"
      ],
      "text/plain": [
       "Correct"
      ]
     },
     "metadata": {},
     "output_type": "display_data"
    }
   ],
   "source": [
    "# Variables representing the number of candies collected by alice, bob, and carol\n",
    "alice_candies = 121\n",
    "bob_candies = 77\n",
    "carol_candies = 109\n",
    "\n",
    "# Your code goes here! Replace the right-hand side of this assignment with an expression\n",
    "# involving alice_candies, bob_candies, and carol_candies\n",
    "total = alice_candies + bob_candies + carol_candies\n",
    "\n",
    "r = total%3\n",
    "if r == 0:\n",
    "    to_smash = 0\n",
    "elif r == 1:\n",
    "    to_smash = 1\n",
    "else:\n",
    "    to_smash = 2\n",
    "candy_smash = total - to_smash\n",
    "\n",
    "# Check your answer\n",
    "q4.check()"
   ]
  },
  {
   "cell_type": "code",
   "execution_count": 17,
   "id": "cbd7bebf",
   "metadata": {
    "execution": {
     "iopub.execute_input": "2025-03-27T23:17:02.786400Z",
     "iopub.status.busy": "2025-03-27T23:17:02.786049Z",
     "iopub.status.idle": "2025-03-27T23:17:02.793297Z",
     "shell.execute_reply": "2025-03-27T23:17:02.792291Z"
    },
    "papermill": {
     "duration": 0.017152,
     "end_time": "2025-03-27T23:17:02.794951",
     "exception": false,
     "start_time": "2025-03-27T23:17:02.777799",
     "status": "completed"
    },
    "tags": []
   },
   "outputs": [
    {
     "data": {
      "application/javascript": [
       "parent.postMessage({\"jupyterEvent\": \"custom.exercise_interaction\", \"data\": {\"interactionType\": 3, \"questionType\": 1, \"questionId\": \"4_CandySplitting\", \"learnToolsVersion\": \"0.3.4\", \"valueTowardsCompletion\": 0.0, \"failureMessage\": \"\", \"exceptionClass\": \"\", \"trace\": \"\", \"outcomeType\": 4}}, \"*\")"
      ],
      "text/plain": [
       "<IPython.core.display.Javascript object>"
      ]
     },
     "metadata": {},
     "output_type": "display_data"
    },
    {
     "data": {
      "text/markdown": [
       "<span style=\"color:#33cc99\">Solution:</span> \n",
       "```python\n",
       "(alice_candies + bob_candies + carol_candies) % 3\n",
       "```"
      ],
      "text/plain": [
       "Solution: \n",
       "```python\n",
       "(alice_candies + bob_candies + carol_candies) % 3\n",
       "```"
      ]
     },
     "metadata": {},
     "output_type": "display_data"
    }
   ],
   "source": [
    "#q4.hint()\n",
    "q4.solution()"
   ]
  },
  {
   "cell_type": "markdown",
   "id": "8f16cb2f",
   "metadata": {
    "papermill": {
     "duration": 0.007417,
     "end_time": "2025-03-27T23:17:02.810231",
     "exception": false,
     "start_time": "2025-03-27T23:17:02.802814",
     "status": "completed"
    },
    "tags": []
   },
   "source": [
    "# Keep Going\n",
    "\n",
    "Next up, you'll **[learn to write new functions and understand functions others write](https://www.kaggle.com/colinmorris/functions-and-getting-help)**. This will make you at least 10 times more productive as a Python programmer. "
   ]
  },
  {
   "cell_type": "markdown",
   "id": "0da47319",
   "metadata": {
    "papermill": {
     "duration": 0.007368,
     "end_time": "2025-03-27T23:17:02.825142",
     "exception": false,
     "start_time": "2025-03-27T23:17:02.817774",
     "status": "completed"
    },
    "tags": []
   },
   "source": [
    "---\n",
    "\n",
    "\n",
    "\n",
    "\n",
    "*Have questions or comments? Visit the [course discussion forum](https://www.kaggle.com/learn/python/discussion) to chat with other learners.*"
   ]
  }
 ],
 "metadata": {
  "kaggle": {
   "accelerator": "none",
   "dataSources": [],
   "isGpuEnabled": false,
   "isInternetEnabled": false,
   "language": "python",
   "sourceType": "notebook"
  },
  "kernelspec": {
   "display_name": "Python 3",
   "language": "python",
   "name": "python3"
  },
  "language_info": {
   "codemirror_mode": {
    "name": "ipython",
    "version": 3
   },
   "file_extension": ".py",
   "mimetype": "text/x-python",
   "name": "python",
   "nbconvert_exporter": "python",
   "pygments_lexer": "ipython3",
   "version": "3.10.12"
  },
  "learntools_metadata": {
   "lesson_index": 0,
   "type": "exercise"
  },
  "papermill": {
   "default_parameters": {},
   "duration": 4.852087,
   "end_time": "2025-03-27T23:17:03.452063",
   "environment_variables": {},
   "exception": null,
   "input_path": "__notebook__.ipynb",
   "output_path": "__notebook__.ipynb",
   "parameters": {},
   "start_time": "2025-03-27T23:16:58.599976",
   "version": "2.6.0"
  }
 },
 "nbformat": 4,
 "nbformat_minor": 5
}
