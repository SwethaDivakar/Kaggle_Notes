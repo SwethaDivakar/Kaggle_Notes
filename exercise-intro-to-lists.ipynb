{
 "cells": [
  {
   "cell_type": "markdown",
   "id": "8e25bebd",
   "metadata": {
    "papermill": {
     "duration": 0.005549,
     "end_time": "2025-03-27T23:30:25.075057",
     "exception": false,
     "start_time": "2025-03-27T23:30:25.069508",
     "status": "completed"
    },
    "tags": []
   },
   "source": [
    "**This notebook is an exercise in the [Intro to Programming](https://www.kaggle.com/learn/intro-to-programming) course.  You can reference the tutorial at [this link](https://www.kaggle.com/alexisbcook/intro-to-lists).**\n",
    "\n",
    "---\n"
   ]
  },
  {
   "cell_type": "markdown",
   "id": "f870a118",
   "metadata": {
    "papermill": {
     "duration": 0.004473,
     "end_time": "2025-03-27T23:30:25.084554",
     "exception": false,
     "start_time": "2025-03-27T23:30:25.080081",
     "status": "completed"
    },
    "tags": []
   },
   "source": [
    "In the tutorial, you learned how to define and modify Python lists.  In this exercise, you will use your new knowledge to solve several problems.\n",
    "\n",
    "# Set up the notebook\n",
    "\n",
    "Run the next code cell without changes to set up the notebook."
   ]
  },
  {
   "cell_type": "code",
   "execution_count": 1,
   "id": "8d5703ee",
   "metadata": {
    "execution": {
     "iopub.execute_input": "2025-03-27T23:30:25.095134Z",
     "iopub.status.busy": "2025-03-27T23:30:25.094774Z",
     "iopub.status.idle": "2025-03-27T23:30:26.048177Z",
     "shell.execute_reply": "2025-03-27T23:30:26.047016Z"
    },
    "papermill": {
     "duration": 0.960489,
     "end_time": "2025-03-27T23:30:26.049741",
     "exception": false,
     "start_time": "2025-03-27T23:30:25.089252",
     "status": "completed"
    },
    "tags": []
   },
   "outputs": [
    {
     "name": "stdout",
     "output_type": "stream",
     "text": [
      "Setup complete.\n"
     ]
    }
   ],
   "source": [
    "from learntools.core import binder\n",
    "binder.bind(globals())\n",
    "from learntools.intro_to_programming.ex5 import *\n",
    "print('Setup complete.')"
   ]
  },
  {
   "cell_type": "markdown",
   "id": "115613ec",
   "metadata": {
    "papermill": {
     "duration": 0.004571,
     "end_time": "2025-03-27T23:30:26.059569",
     "exception": false,
     "start_time": "2025-03-27T23:30:26.054998",
     "status": "completed"
    },
    "tags": []
   },
   "source": [
    "# Question 1\n",
    "\n",
    "You own a restaurant with five food dishes, organized in the Python list `menu` below.  One day, you decide to:\n",
    "- remove bean soup (`'bean soup'`) from the menu, and\n",
    "- add roasted beet salad (`'roasted beet salad'`) to the menu.\n",
    "\n",
    "Implement this change to the list below.  While completing this task, \n",
    "- do not change the line that creates the `menu` list.  \n",
    "- your answer should use `.remove()` and `.append()`.  "
   ]
  },
  {
   "cell_type": "code",
   "execution_count": 2,
   "id": "58a4f43a",
   "metadata": {
    "execution": {
     "iopub.execute_input": "2025-03-27T23:30:26.070558Z",
     "iopub.status.busy": "2025-03-27T23:30:26.070069Z",
     "iopub.status.idle": "2025-03-27T23:30:26.078332Z",
     "shell.execute_reply": "2025-03-27T23:30:26.077261Z"
    },
    "papermill": {
     "duration": 0.015577,
     "end_time": "2025-03-27T23:30:26.079988",
     "exception": false,
     "start_time": "2025-03-27T23:30:26.064411",
     "status": "completed"
    },
    "tags": []
   },
   "outputs": [
    {
     "data": {
      "application/javascript": [
       "parent.postMessage({\"jupyterEvent\": \"custom.exercise_interaction\", \"data\": {\"outcomeType\": 1, \"valueTowardsCompletion\": 0.2, \"interactionType\": 1, \"questionType\": 2, \"questionId\": \"1_FoodMenu\", \"learnToolsVersion\": \"0.3.4\", \"failureMessage\": \"\", \"exceptionClass\": \"\", \"trace\": \"\"}}, \"*\")"
      ],
      "text/plain": [
       "<IPython.core.display.Javascript object>"
      ]
     },
     "metadata": {},
     "output_type": "display_data"
    },
    {
     "data": {
      "text/markdown": [
       "<span style=\"color:#33cc33\">Correct</span>"
      ],
      "text/plain": [
       "Correct"
      ]
     },
     "metadata": {},
     "output_type": "display_data"
    }
   ],
   "source": [
    "# Do not change: Initial menu for your restaurant\n",
    "menu = ['stewed meat with onions', 'bean soup', 'risotto with trout and shrimp',\n",
    "       'fish soup with cream and onion', 'gyro']\n",
    "\n",
    "# TODO: remove 'bean soup', and add 'roasted beet salad' to the end of the menu\n",
    "menu.remove('bean soup')\n",
    "menu.append('roasted beet salad')\n",
    "____\n",
    "\n",
    "# Do not change: Check your answer\n",
    "q1.check()"
   ]
  },
  {
   "cell_type": "code",
   "execution_count": 3,
   "id": "c4e4e293",
   "metadata": {
    "execution": {
     "iopub.execute_input": "2025-03-27T23:30:26.091898Z",
     "iopub.status.busy": "2025-03-27T23:30:26.091528Z",
     "iopub.status.idle": "2025-03-27T23:30:26.095284Z",
     "shell.execute_reply": "2025-03-27T23:30:26.094269Z"
    },
    "papermill": {
     "duration": 0.011339,
     "end_time": "2025-03-27T23:30:26.096763",
     "exception": false,
     "start_time": "2025-03-27T23:30:26.085424",
     "status": "completed"
    },
    "tags": []
   },
   "outputs": [],
   "source": [
    "# Uncomment to see a hint\n",
    "#q1.hint()\n",
    "\n",
    "# Uncomment to see the solution\n",
    "#q1.solution()"
   ]
  },
  {
   "cell_type": "markdown",
   "id": "a7243121",
   "metadata": {
    "papermill": {
     "duration": 0.005169,
     "end_time": "2025-03-27T23:30:26.107000",
     "exception": false,
     "start_time": "2025-03-27T23:30:26.101831",
     "status": "completed"
    },
    "tags": []
   },
   "source": [
    "# Question 2\n",
    "\n",
    "The list `num_customers` contains the number of customers who came into your restaurant every day over the last month (which lasted thirty days).  Fill in values for each of the following:\n",
    "- `avg_first_seven` - average number of customers who visited in the first seven days\n",
    "- `avg_last_seven` - average number of customers who visited in the last seven days\n",
    "- `max_month` - number of customers on the day that got the most customers in the last month\n",
    "- `min_month` - number of customers on the day that got the least customers in the last month\n",
    "\n",
    "Answer this question by writing code.  For instance, if you have to find the minimum value in a list, use `min()` instead of scanning for the smallest value and directly filling in a number."
   ]
  },
  {
   "cell_type": "code",
   "execution_count": 4,
   "id": "cd34a6ca",
   "metadata": {
    "execution": {
     "iopub.execute_input": "2025-03-27T23:30:26.118626Z",
     "iopub.status.busy": "2025-03-27T23:30:26.118250Z",
     "iopub.status.idle": "2025-03-27T23:30:26.126240Z",
     "shell.execute_reply": "2025-03-27T23:30:26.125305Z"
    },
    "papermill": {
     "duration": 0.015328,
     "end_time": "2025-03-27T23:30:26.127699",
     "exception": false,
     "start_time": "2025-03-27T23:30:26.112371",
     "status": "completed"
    },
    "tags": []
   },
   "outputs": [
    {
     "data": {
      "application/javascript": [
       "parent.postMessage({\"jupyterEvent\": \"custom.exercise_interaction\", \"data\": {\"outcomeType\": 1, \"valueTowardsCompletion\": 0.2, \"interactionType\": 1, \"questionType\": 1, \"questionId\": \"2_NumCustomers\", \"learnToolsVersion\": \"0.3.4\", \"failureMessage\": \"\", \"exceptionClass\": \"\", \"trace\": \"\"}}, \"*\")"
      ],
      "text/plain": [
       "<IPython.core.display.Javascript object>"
      ]
     },
     "metadata": {},
     "output_type": "display_data"
    },
    {
     "data": {
      "text/markdown": [
       "<span style=\"color:#33cc33\">Correct</span>"
      ],
      "text/plain": [
       "Correct"
      ]
     },
     "metadata": {},
     "output_type": "display_data"
    }
   ],
   "source": [
    "# Do not change: Number of customers each day for the last month\n",
    "num_customers = [137, 147, 135, 128, 170, 174, 165, 146, 126, 159,\n",
    "                 141, 148, 132, 147, 168, 153, 170, 161, 148, 152,\n",
    "                 141, 151, 131, 149, 164, 163, 143, 143, 166, 171]\n",
    "\n",
    "# TODO: Fill in values for the variables below\n",
    "avg_first_seven = sum(num_customers[:7])/7\n",
    "avg_last_seven = sum(num_customers[-7:])/7\n",
    "max_month = max(num_customers)\n",
    "min_month = min(num_customers)\n",
    "\n",
    "# Do not change: Check your answer\n",
    "q2.check()"
   ]
  },
  {
   "cell_type": "code",
   "execution_count": 5,
   "id": "998dca8f",
   "metadata": {
    "execution": {
     "iopub.execute_input": "2025-03-27T23:30:26.139459Z",
     "iopub.status.busy": "2025-03-27T23:30:26.139105Z",
     "iopub.status.idle": "2025-03-27T23:30:26.143003Z",
     "shell.execute_reply": "2025-03-27T23:30:26.142074Z"
    },
    "papermill": {
     "duration": 0.011426,
     "end_time": "2025-03-27T23:30:26.144397",
     "exception": false,
     "start_time": "2025-03-27T23:30:26.132971",
     "status": "completed"
    },
    "tags": []
   },
   "outputs": [],
   "source": [
    "# Uncomment to see a hint\n",
    "#q2.hint()\n",
    "\n",
    "# Uncomment to see the solution\n",
    "#q2.solution()"
   ]
  },
  {
   "cell_type": "markdown",
   "id": "db24ca1b",
   "metadata": {
    "papermill": {
     "duration": 0.004997,
     "end_time": "2025-03-27T23:30:26.154717",
     "exception": false,
     "start_time": "2025-03-27T23:30:26.149720",
     "status": "completed"
    },
    "tags": []
   },
   "source": [
    "# Question 3\n",
    "\n",
    "In the tutorial, we gave an example of a Python string with information that was better as a list."
   ]
  },
  {
   "cell_type": "code",
   "execution_count": 6,
   "id": "c6fbc8c8",
   "metadata": {
    "execution": {
     "iopub.execute_input": "2025-03-27T23:30:26.166477Z",
     "iopub.status.busy": "2025-03-27T23:30:26.166117Z",
     "iopub.status.idle": "2025-03-27T23:30:26.169903Z",
     "shell.execute_reply": "2025-03-27T23:30:26.169006Z"
    },
    "papermill": {
     "duration": 0.011448,
     "end_time": "2025-03-27T23:30:26.171433",
     "exception": false,
     "start_time": "2025-03-27T23:30:26.159985",
     "status": "completed"
    },
    "tags": []
   },
   "outputs": [],
   "source": [
    "flowers = \"pink primrose,hard-leaved pocket orchid,canterbury bells,sweet pea,english marigold,tiger lily,moon orchid,bird of paradise,monkshood,globe thistle\""
   ]
  },
  {
   "cell_type": "markdown",
   "id": "d8880da7",
   "metadata": {
    "papermill": {
     "duration": 0.005089,
     "end_time": "2025-03-27T23:30:26.182022",
     "exception": false,
     "start_time": "2025-03-27T23:30:26.176933",
     "status": "completed"
    },
    "tags": []
   },
   "source": [
    "You can actually use Python to quickly turn this string into a list with `.split()`.  In the parentheses, we need to provide the character should be used to mark the end of one list item and the beginning of another, and enclose it in quotation marks.  In this case, that character is a comma."
   ]
  },
  {
   "cell_type": "code",
   "execution_count": 7,
   "id": "0cdfef88",
   "metadata": {
    "execution": {
     "iopub.execute_input": "2025-03-27T23:30:26.193925Z",
     "iopub.status.busy": "2025-03-27T23:30:26.193526Z",
     "iopub.status.idle": "2025-03-27T23:30:26.198421Z",
     "shell.execute_reply": "2025-03-27T23:30:26.197381Z"
    },
    "papermill": {
     "duration": 0.012547,
     "end_time": "2025-03-27T23:30:26.199863",
     "exception": false,
     "start_time": "2025-03-27T23:30:26.187316",
     "status": "completed"
    },
    "tags": []
   },
   "outputs": [
    {
     "name": "stdout",
     "output_type": "stream",
     "text": [
      "['pink primrose', 'hard-leaved pocket orchid', 'canterbury bells', 'sweet pea', 'english marigold', 'tiger lily', 'moon orchid', 'bird of paradise', 'monkshood', 'globe thistle']\n"
     ]
    }
   ],
   "source": [
    " print(flowers.split(\",\"))"
   ]
  },
  {
   "cell_type": "markdown",
   "id": "7bf67807",
   "metadata": {
    "papermill": {
     "duration": 0.004999,
     "end_time": "2025-03-27T23:30:26.210195",
     "exception": false,
     "start_time": "2025-03-27T23:30:26.205196",
     "status": "completed"
    },
    "tags": []
   },
   "source": [
    "Now it is your turn to try this out!  Create two Python lists:\n",
    "- `letters` should be a Python list where each entry is an uppercase letter of the English alphabet.  For instance, the first two entries should be `\"A\"` and `\"B\"`, and the final two entries should be `\"Y\"` and `\"Z\"`.  Use the string `alphabet` to create this list.\n",
    "- `address` should be a Python list where each row in `address` is a different item in the list.  Currently, each row in `address` is separated by a comma. "
   ]
  },
  {
   "cell_type": "code",
   "execution_count": 8,
   "id": "9b4ce89f",
   "metadata": {
    "execution": {
     "iopub.execute_input": "2025-03-27T23:30:26.221999Z",
     "iopub.status.busy": "2025-03-27T23:30:26.221605Z",
     "iopub.status.idle": "2025-03-27T23:30:26.229062Z",
     "shell.execute_reply": "2025-03-27T23:30:26.228093Z"
    },
    "papermill": {
     "duration": 0.015175,
     "end_time": "2025-03-27T23:30:26.230609",
     "exception": false,
     "start_time": "2025-03-27T23:30:26.215434",
     "status": "completed"
    },
    "tags": []
   },
   "outputs": [
    {
     "data": {
      "application/javascript": [
       "parent.postMessage({\"jupyterEvent\": \"custom.exercise_interaction\", \"data\": {\"outcomeType\": 1, \"valueTowardsCompletion\": 0.2, \"interactionType\": 1, \"questionType\": 1, \"questionId\": \"3_SplitString\", \"learnToolsVersion\": \"0.3.4\", \"failureMessage\": \"\", \"exceptionClass\": \"\", \"trace\": \"\"}}, \"*\")"
      ],
      "text/plain": [
       "<IPython.core.display.Javascript object>"
      ]
     },
     "metadata": {},
     "output_type": "display_data"
    },
    {
     "data": {
      "text/markdown": [
       "<span style=\"color:#33cc33\">Correct</span>"
      ],
      "text/plain": [
       "Correct"
      ]
     },
     "metadata": {},
     "output_type": "display_data"
    }
   ],
   "source": [
    "# DO not change: Define two Python strings\n",
    "alphabet = \"A.B.C.D.E.F.G.H.I.J.K.L.M.N.O.P.Q.R.S.T.U.V.W.X.Y.Z\"\n",
    "address = \"Mr. H. Potter,The cupboard under the Stairs,4 Privet Drive,Little Whinging,Surrey\"\n",
    "\n",
    "# TODO: Convert strings into Python lists\n",
    "letters = alphabet.split(\".\")\n",
    "formatted_address = address.split(\",\")\n",
    "\n",
    "# Do not change: Check your answer\n",
    "q3.check()"
   ]
  },
  {
   "cell_type": "code",
   "execution_count": 9,
   "id": "e5c750e5",
   "metadata": {
    "execution": {
     "iopub.execute_input": "2025-03-27T23:30:26.243090Z",
     "iopub.status.busy": "2025-03-27T23:30:26.242753Z",
     "iopub.status.idle": "2025-03-27T23:30:26.246164Z",
     "shell.execute_reply": "2025-03-27T23:30:26.245311Z"
    },
    "papermill": {
     "duration": 0.011193,
     "end_time": "2025-03-27T23:30:26.247507",
     "exception": false,
     "start_time": "2025-03-27T23:30:26.236314",
     "status": "completed"
    },
    "tags": []
   },
   "outputs": [],
   "source": [
    "# Uncomment to see a hint\n",
    "#q3.hint()\n",
    "\n",
    "# Uncomment to see the solution\n",
    "#q3.solution()"
   ]
  },
  {
   "cell_type": "markdown",
   "id": "4981f834",
   "metadata": {
    "papermill": {
     "duration": 0.005353,
     "end_time": "2025-03-27T23:30:26.258480",
     "exception": false,
     "start_time": "2025-03-27T23:30:26.253127",
     "status": "completed"
    },
    "tags": []
   },
   "source": [
    "# Question 4\n",
    "\n",
    "In the Python course, you'll learn all about **list comprehensions**, which allow you to create a list based on the values in another list.  In this question, you'll get a brief preview of how they work.\n",
    "\n",
    "Say we're working with the list below."
   ]
  },
  {
   "cell_type": "code",
   "execution_count": 10,
   "id": "837ae7c7",
   "metadata": {
    "execution": {
     "iopub.execute_input": "2025-03-27T23:30:26.270663Z",
     "iopub.status.busy": "2025-03-27T23:30:26.270340Z",
     "iopub.status.idle": "2025-03-27T23:30:26.274110Z",
     "shell.execute_reply": "2025-03-27T23:30:26.273239Z"
    },
    "papermill": {
     "duration": 0.011545,
     "end_time": "2025-03-27T23:30:26.275547",
     "exception": false,
     "start_time": "2025-03-27T23:30:26.264002",
     "status": "completed"
    },
    "tags": []
   },
   "outputs": [],
   "source": [
    "test_ratings = [1, 2, 3, 4, 5]"
   ]
  },
  {
   "cell_type": "markdown",
   "id": "6c9288a9",
   "metadata": {
    "papermill": {
     "duration": 0.005497,
     "end_time": "2025-03-27T23:30:26.286687",
     "exception": false,
     "start_time": "2025-03-27T23:30:26.281190",
     "status": "completed"
    },
    "tags": []
   },
   "source": [
    "Then we can use this list (`test_ratings`) to create a new list (`test_liked`) where each item has been turned into a boolean, depending on whether or not the item is greater than or equal to four."
   ]
  },
  {
   "cell_type": "code",
   "execution_count": 11,
   "id": "3de0935a",
   "metadata": {
    "execution": {
     "iopub.execute_input": "2025-03-27T23:30:26.298820Z",
     "iopub.status.busy": "2025-03-27T23:30:26.298503Z",
     "iopub.status.idle": "2025-03-27T23:30:26.303097Z",
     "shell.execute_reply": "2025-03-27T23:30:26.302039Z"
    },
    "papermill": {
     "duration": 0.012458,
     "end_time": "2025-03-27T23:30:26.304660",
     "exception": false,
     "start_time": "2025-03-27T23:30:26.292202",
     "status": "completed"
    },
    "tags": []
   },
   "outputs": [
    {
     "name": "stdout",
     "output_type": "stream",
     "text": [
      "[False, False, False, True, True]\n"
     ]
    }
   ],
   "source": [
    "test_liked = [i>=4 for i in test_ratings]\n",
    "print(test_liked)"
   ]
  },
  {
   "cell_type": "markdown",
   "id": "a7d42bf1",
   "metadata": {
    "papermill": {
     "duration": 0.005725,
     "end_time": "2025-03-27T23:30:26.316122",
     "exception": false,
     "start_time": "2025-03-27T23:30:26.310397",
     "status": "completed"
    },
    "tags": []
   },
   "source": [
    "In this question, you'll use this list comprehension to define a function `percentage_liked()` that takes one argument as input:\n",
    "- `ratings`: list of ratings that people gave to a movie, where each rating is a number between 1-5, inclusive\n",
    "\n",
    "We say someone liked the movie, if they gave a rating of either 4 or 5.  Your function should return the percentage of people who liked the movie.\n",
    "\n",
    "For instance, if we supply a value of `[1, 2, 3, 4, 5, 4, 5, 1]`, then 50% (4/8) of the people liked the movie, and the function should return `0.5`.\n",
    "\n",
    "Part of the function has already been completed for you.  You need only use `list_liked` to calculate `percentage_liked`."
   ]
  },
  {
   "cell_type": "code",
   "execution_count": 12,
   "id": "89bfa85a",
   "metadata": {
    "execution": {
     "iopub.execute_input": "2025-03-27T23:30:26.328300Z",
     "iopub.status.busy": "2025-03-27T23:30:26.327988Z",
     "iopub.status.idle": "2025-03-27T23:30:26.335712Z",
     "shell.execute_reply": "2025-03-27T23:30:26.334755Z"
    },
    "papermill": {
     "duration": 0.015604,
     "end_time": "2025-03-27T23:30:26.337259",
     "exception": false,
     "start_time": "2025-03-27T23:30:26.321655",
     "status": "completed"
    },
    "tags": []
   },
   "outputs": [
    {
     "data": {
      "application/javascript": [
       "parent.postMessage({\"jupyterEvent\": \"custom.exercise_interaction\", \"data\": {\"outcomeType\": 1, \"valueTowardsCompletion\": 0.2, \"interactionType\": 1, \"questionType\": 2, \"questionId\": \"4_PercentageLiked\", \"learnToolsVersion\": \"0.3.4\", \"failureMessage\": \"\", \"exceptionClass\": \"\", \"trace\": \"\"}}, \"*\")"
      ],
      "text/plain": [
       "<IPython.core.display.Javascript object>"
      ]
     },
     "metadata": {},
     "output_type": "display_data"
    },
    {
     "data": {
      "text/markdown": [
       "<span style=\"color:#33cc33\">Correct</span>"
      ],
      "text/plain": [
       "Correct"
      ]
     },
     "metadata": {},
     "output_type": "display_data"
    }
   ],
   "source": [
    "\n",
    "def percentage_liked(ratings):\n",
    "    list_liked = [i>=4 for i in ratings]\n",
    "    # TODO: Complete the function \n",
    "    percentage_liked = sum(list_liked) / len(list_liked)\n",
    "    return percentage_liked\n",
    "\n",
    "# Do not change: should return 0.5\n",
    "percentage_liked([1, 2, 3, 4, 5, 4, 5, 1])\n",
    "\n",
    "# Do not change: Check your answer\n",
    "q4.check()"
   ]
  },
  {
   "cell_type": "code",
   "execution_count": 13,
   "id": "6adcd63b",
   "metadata": {
    "execution": {
     "iopub.execute_input": "2025-03-27T23:30:26.350312Z",
     "iopub.status.busy": "2025-03-27T23:30:26.349997Z",
     "iopub.status.idle": "2025-03-27T23:30:26.353275Z",
     "shell.execute_reply": "2025-03-27T23:30:26.352457Z"
    },
    "papermill": {
     "duration": 0.011543,
     "end_time": "2025-03-27T23:30:26.354765",
     "exception": false,
     "start_time": "2025-03-27T23:30:26.343222",
     "status": "completed"
    },
    "tags": []
   },
   "outputs": [],
   "source": [
    "# Uncomment to see a hint\n",
    "#q4.hint()\n",
    "\n",
    "# Uncomment to see the solution\n",
    "#q4.solution()"
   ]
  },
  {
   "cell_type": "markdown",
   "id": "0ba12718",
   "metadata": {
    "papermill": {
     "duration": 0.005691,
     "end_time": "2025-03-27T23:30:26.366468",
     "exception": false,
     "start_time": "2025-03-27T23:30:26.360777",
     "status": "completed"
    },
    "tags": []
   },
   "source": [
    "# 🌶️ Question 5\n",
    " \n",
    "Say you're doing analytics for a website.  You need to write a function that returns the percentage growth in the total number of users relative to a specified number of years ago.\n",
    "\n",
    "Your function `percentage_growth()` should take two arguments as input:\n",
    "- `num_users` = Python list with the total number of users each year.  So `num_users[0]` is the total number of users in the first year, `num_users[1]` is the total number of users in the second year, and so on.  The final entry in the list gives the total number of users in the most recently completed year.\n",
    "- `yrs_ago` = number of years to go back in time when calculating the growth percentage\n",
    "\n",
    "For instance, say `num_users = [920344, 1043553, 1204334, 1458996, 1503323, 1593432, 1623463, 1843064, 1930992, 2001078]`.\n",
    "- if `yrs_ago = 1`, we want the function to return a value of about `0.036`. This corresponds to a percentage growth of approximately 3.6%, calculated as (2001078 - 1930992)/1930992.\n",
    "- if `years_ago = 7`, we would want to return approximately `0.66`.  This corresponds to a percentage growth of approximately 66%, calculated as (2001078 - 1204334)/1204334.\n",
    "\n",
    "Your coworker sent you a draft of a function, but it doesn't seem to be doing the correct calculation.  Can you figure out what has gone wrong and make the needed changes?"
   ]
  },
  {
   "cell_type": "code",
   "execution_count": 14,
   "id": "cbdffd1a",
   "metadata": {
    "execution": {
     "iopub.execute_input": "2025-03-27T23:30:26.379412Z",
     "iopub.status.busy": "2025-03-27T23:30:26.379084Z",
     "iopub.status.idle": "2025-03-27T23:30:26.387837Z",
     "shell.execute_reply": "2025-03-27T23:30:26.387049Z"
    },
    "papermill": {
     "duration": 0.016904,
     "end_time": "2025-03-27T23:30:26.389229",
     "exception": false,
     "start_time": "2025-03-27T23:30:26.372325",
     "status": "completed"
    },
    "tags": []
   },
   "outputs": [
    {
     "name": "stdout",
     "output_type": "stream",
     "text": [
      "0.03629533421163837\n",
      "0.6615639847417742\n"
     ]
    },
    {
     "data": {
      "application/javascript": [
       "parent.postMessage({\"jupyterEvent\": \"custom.exercise_interaction\", \"data\": {\"outcomeType\": 1, \"valueTowardsCompletion\": 0.2, \"interactionType\": 1, \"questionType\": 2, \"questionId\": \"5_WebsiteAnalytics\", \"learnToolsVersion\": \"0.3.4\", \"failureMessage\": \"\", \"exceptionClass\": \"\", \"trace\": \"\"}}, \"*\")"
      ],
      "text/plain": [
       "<IPython.core.display.Javascript object>"
      ]
     },
     "metadata": {},
     "output_type": "display_data"
    },
    {
     "data": {
      "text/markdown": [
       "<span style=\"color:#33cc33\">Correct</span>"
      ],
      "text/plain": [
       "Correct"
      ]
     },
     "metadata": {},
     "output_type": "display_data"
    }
   ],
   "source": [
    "# TODO: Edit the function\n",
    "def percentage_growth(num_users, yrs_ago):\n",
    "    growth = (num_users[len(num_users) -1] - num_users[len(num_users)-yrs_ago-1])/num_users[len(num_users)-yrs_ago-1]\n",
    "    return growth\n",
    "\n",
    "# Do not change: Variable for calculating some test examples\n",
    "num_users_test = [920344, 1043553, 1204334, 1458996, 1503323, 1593432, 1623463, 1843064, 1930992, 2001078]\n",
    "\n",
    "# Do not change: Should return .036\n",
    "print(percentage_growth(num_users_test, 1))\n",
    "\n",
    "# Do not change: Should return 0.66\n",
    "print(percentage_growth(num_users_test, 7))\n",
    "\n",
    "# Do not change: Check your answer\n",
    "q5.check()"
   ]
  },
  {
   "cell_type": "code",
   "execution_count": 15,
   "id": "29e5a088",
   "metadata": {
    "execution": {
     "iopub.execute_input": "2025-03-27T23:30:26.402841Z",
     "iopub.status.busy": "2025-03-27T23:30:26.402540Z",
     "iopub.status.idle": "2025-03-27T23:30:26.408980Z",
     "shell.execute_reply": "2025-03-27T23:30:26.408086Z"
    },
    "papermill": {
     "duration": 0.014894,
     "end_time": "2025-03-27T23:30:26.410484",
     "exception": false,
     "start_time": "2025-03-27T23:30:26.395590",
     "status": "completed"
    },
    "tags": []
   },
   "outputs": [
    {
     "data": {
      "application/javascript": [
       "parent.postMessage({\"jupyterEvent\": \"custom.exercise_interaction\", \"data\": {\"interactionType\": 2, \"questionType\": 2, \"questionId\": \"5_WebsiteAnalytics\", \"learnToolsVersion\": \"0.3.4\", \"valueTowardsCompletion\": 0.0, \"failureMessage\": \"\", \"exceptionClass\": \"\", \"trace\": \"\", \"outcomeType\": 4}}, \"*\")"
      ],
      "text/plain": [
       "<IPython.core.display.Javascript object>"
      ]
     },
     "metadata": {},
     "output_type": "display_data"
    },
    {
     "data": {
      "text/markdown": [
       "<span style=\"color:#3366cc\">Hint:</span> It's already correct that you need to subtract two numbers from the list, before dividing by an item in the list. You only need to modify the positions for the items that are pulled from the list. \n",
       "\n",
       "In order to pull the final entry in the `num_users` list, you would need to use `num_users[len(num_users)-1]`.  This corresponds to the number of users in the most recently completed year.  \n",
       "\n",
       "Then, to get the number of users from one year prior, you should use `num_users[len(num_users)-2]`.  \n",
       "\n",
       "To get the number of users from `yrs_ago` years ago, use `num_users[len(num_users)-yrs_ago-1]`."
      ],
      "text/plain": [
       "Hint: It's already correct that you need to subtract two numbers from the list, before dividing by an item in the list. You only need to modify the positions for the items that are pulled from the list. \n",
       "\n",
       "In order to pull the final entry in the `num_users` list, you would need to use `num_users[len(num_users)-1]`.  This corresponds to the number of users in the most recently completed year.  \n",
       "\n",
       "Then, to get the number of users from one year prior, you should use `num_users[len(num_users)-2]`.  \n",
       "\n",
       "To get the number of users from `yrs_ago` years ago, use `num_users[len(num_users)-yrs_ago-1]`."
      ]
     },
     "metadata": {},
     "output_type": "display_data"
    }
   ],
   "source": [
    "# Uncomment to see a hint\n",
    "q5.hint()\n",
    "\n",
    "# Uncomment to see the solution\n",
    "#q5.solution()"
   ]
  },
  {
   "cell_type": "markdown",
   "id": "d18cbf70",
   "metadata": {
    "papermill": {
     "duration": 0.00608,
     "end_time": "2025-03-27T23:30:26.423015",
     "exception": false,
     "start_time": "2025-03-27T23:30:26.416935",
     "status": "completed"
    },
    "tags": []
   },
   "source": [
    "# Congratulations!\n",
    "\n",
    "Congratulations for finishing the Intro to Programming course!  You should be proud of your very first steps with learning programming.  As next steps, we recommend taking:\n",
    "- the **[Python course](http://www.kaggle.com/learn/python)**, and \n",
    "- the **[Intro to Machine Learning course](https://www.kaggle.com/learn/intro-to-machine-learning)**."
   ]
  },
  {
   "cell_type": "markdown",
   "id": "5238777e",
   "metadata": {
    "papermill": {
     "duration": 0.006386,
     "end_time": "2025-03-27T23:30:26.435686",
     "exception": false,
     "start_time": "2025-03-27T23:30:26.429300",
     "status": "completed"
    },
    "tags": []
   },
   "source": [
    "---\n",
    "\n",
    "\n",
    "\n",
    "\n",
    "*Have questions or comments? Visit the [course discussion forum](https://www.kaggle.com/learn/intro-to-programming/discussion) to chat with other learners.*"
   ]
  }
 ],
 "metadata": {
  "kaggle": {
   "accelerator": "none",
   "dataSources": [],
   "isGpuEnabled": false,
   "isInternetEnabled": false,
   "language": "python",
   "sourceType": "notebook"
  },
  "kernelspec": {
   "display_name": "Python 3",
   "language": "python",
   "name": "python3"
  },
  "language_info": {
   "codemirror_mode": {
    "name": "ipython",
    "version": 3
   },
   "file_extension": ".py",
   "mimetype": "text/x-python",
   "name": "python",
   "nbconvert_exporter": "python",
   "pygments_lexer": "ipython3",
   "version": "3.10.12"
  },
  "papermill": {
   "default_parameters": {},
   "duration": 4.595302,
   "end_time": "2025-03-27T23:30:26.961695",
   "environment_variables": {},
   "exception": null,
   "input_path": "__notebook__.ipynb",
   "output_path": "__notebook__.ipynb",
   "parameters": {},
   "start_time": "2025-03-27T23:30:22.366393",
   "version": "2.6.0"
  }
 },
 "nbformat": 4,
 "nbformat_minor": 5
}
